{
 "cells": [
  {
   "cell_type": "code",
   "execution_count": 1,
   "metadata": {},
   "outputs": [],
   "source": [
    "import json"
   ]
  },
  {
   "cell_type": "code",
   "execution_count": 3,
   "metadata": {},
   "outputs": [
    {
     "data": {
      "text/plain": [
       "{'law_id': '01/2009/tt-bnn',\n",
       " 'articles': [{'article_id': '1',\n",
       "   'title': 'Điều 1. Phạm vi áp dụng',\n",
       "   'text': 'Thông tư này hướng dẫn tuần tra, canh gác bảo vệ đê Điều trong mùa lũ đối với các tuyến đê sông được phân loại, phân cấp theo quy định tại Điều 4 của Luật Đê Điều.'},\n",
       "  {'article_id': '2',\n",
       "   'title': 'Điều 2. Tổ chức lực lượng',\n",
       "   'text': '1. Hàng năm trước mùa mưa, lũ, Ủy ban nhân dân cấp xã nơi có đê phải tổ chức lực lượng lao động tại địa phương để tuần tra, canh gác đê và thường trực trên các điếm canh đê hoặc nhà dân khu vực gần đê (đối với những khu vực chưa có điếm canh đê), khi có báo động lũ từ cấp I trở lên đối với tuyến sông có đê (sau đây gọi tắt là lực lượng tuần tra, canh gác đê).\\n2. Lực lượng tuần tra, canh gác đê được tổ chức thành các đội, do Ủy ban nhân dân cấp xã ra quyết định thành lập; từ 01 đến 02 kilômét đê thành lập 01 đội; mỗi đội có từ 12 đến 18 người, trong đó có 01 đội trưởng và 01 hoặc 02 đội phó. Danh sách thành viên đội tuần tra, canh gác đê được niêm yết tại điếm canh đê thuộc địa bàn được phân công.\\n3. Khi lũ, bão có diễn biến phức tạp, kéo dài ngày, Uỷ ban nhân dân cấp xã có thể quyết định việc bổ sung thêm thành viên cho đội tuần tra, canh gác đê.'},\n",
       "  {'article_id': '3',\n",
       "   'title': 'Điều 3. Tiêu chuẩn của các thành viên thuộc lực lượng tuần tra, canh gác đê',\n",
       "   'text': '1. Là người khoẻ mạnh, tháo vát, đủ khả năng đảm đương những công việc nặng nhọc, kể cả lúc mưa to, gió lớn, đêm tối.\\n2. Có tinh thần trách nhiệm, chịu đựng gian khổ, khắc phục khó khăn, quen sông nước và biết bơi, có kiến thức, kinh nghiệm hộ đê, phòng, chống lụt, bão.'},\n",
       "  {'article_id': '4',\n",
       "   'title': 'Điều 4. Nhiệm vụ của lực lượng tuần tra, canh gác đê',\n",
       "   'text': '1. Chấp hành sự phân công của Ban chỉ huy phòng, chống lụt, bão các cấp và chịu sự hướng dẫn về chuyên môn nghiệp vụ của cơ quan chuyên trách quản lý đê Điều.\\n2. Tuần tra, canh gác và thường trực trên các điếm canh đê, khi có báo động lũ từ cấp I trở lên đối với tuyến sông có đê. Theo dõi diễn biến của đê Điều; phát hiện kịp thời những hư hỏng của đê Điều và báo cáo ngay cho Ban chỉ huy chống lụt bão xã, cán bộ chuyên trách quản lý đê Điều phụ trách tuyến đê đó và khẩn trương tiến hành xử lý giờ đầu theo đúng kỹ thuật đã được hướng dẫn.\\n3. Tham gia xử lý sự cố và tu sửa kịp thời những hư hỏng của đê Điều, dưới sự hướng dẫn về kỹ thuật của cán bộ chuyên trách quản lý đê Điều hoặc ý kiến chỉ đạo của cấp trên.\\n4. Canh gác, kiểm tra phát hiện và ngăn chặn kịp thời những hành vi vi phạm pháp Luật về đê Điều và phòng, chống lụt, bão và báo cáo ngay cán bộ chuyên trách quản lý đê Điều.\\n5. Đeo phù hiệu khi làm nhiệm vụ.'},\n",
       "  {'article_id': '5',\n",
       "   'title': 'Điều 5. Phù hiệu của lực lượng tuần tra, canh gác đê',\n",
       "   'text': 'Phù hiệu của lực lượng tuần tra, canh gác đê là một băng đỏ rộng 10cm, có ký hiệu “KTĐ” màu vàng.\\nPhù hiệu được đeo trên khuỷu tay áo bên trái, chữ “KTĐ” hướng ra phía ngoài.'},\n",
       "  {'article_id': '6',\n",
       "   'title': 'Điều 6. Trang bị dụng cụ, sổ sách',\n",
       "   'text': '1. Lực lượng tuần tra, canh gác đê được trang bị:\\n- Dụng cụ thông tin, liên lạc, phương tiện phục vụ công tác tuần tra, canh gác đê; dụng cụ ứng cứu như đèn, đuốc, mai, cuốc, xẻng, đầm, vồ… và các dụng cụ cần thiết khác phù hợp với từng địa phương;\\n- Sổ sách để ghi chép tình hình diễn biến của đê, kè bảo vệ đê, cống qua đê, công trình quản lý khác; tiếp nhận chỉ thị, nhận xét của cấp trên, phân công, bố trí người tuần tra, canh gác hàng ngày.\\n2. Số lượng dụng cụ, sổ sách tối thiểu được trang bị cho mỗi đội tuần tra, canh gác đê như sau:\\na) Về dụng cụ:\\n- Áo phao:\\xa0\\xa0\\xa0\\xa0\\xa0\\xa0\\xa0\\xa0\\xa0\\xa0\\xa0\\xa0\\xa0\\xa0\\xa0\\xa0\\xa0\\xa0\\xa0\\xa0\\xa0\\xa0\\xa0\\xa0\\xa0\\xa0\\xa0\\xa0\\xa0\\xa0\\xa0\\xa0\\xa0\\xa0\\xa0\\xa0\\xa0\\xa0\\xa0\\xa0\\xa0\\xa0\\xa0\\xa0 06 cái;\\n- Áo đi mưa:\\xa0\\xa0\\xa0\\xa0\\xa0\\xa0\\xa0\\xa0\\xa0\\xa0\\xa0\\xa0\\xa0\\xa0\\xa0\\xa0\\xa0\\xa0\\xa0\\xa0\\xa0\\xa0\\xa0\\xa0\\xa0\\xa0\\xa0\\xa0\\xa0\\xa0\\xa0\\xa0\\xa0\\xa0\\xa0\\xa0\\xa0\\xa0\\xa0\\xa0\\xa0 18 cái;\\n- Xe cải tiến:\\xa0\\xa0\\xa0\\xa0\\xa0\\xa0\\xa0\\xa0\\xa0\\xa0\\xa0\\xa0\\xa0\\xa0\\xa0\\xa0\\xa0\\xa0\\xa0\\xa0\\xa0\\xa0\\xa0\\xa0\\xa0\\xa0\\xa0\\xa0\\xa0\\xa0\\xa0\\xa0\\xa0\\xa0\\xa0\\xa0\\xa0\\xa0\\xa0\\xa0\\xa0 02 chiếc;\\n- Quang gánh :\\xa0\\xa0\\xa0\\xa0\\xa0\\xa0\\xa0\\xa0\\xa0\\xa0\\xa0\\xa0\\xa0\\xa0\\xa0\\xa0\\xa0\\xa0\\xa0\\xa0\\xa0\\xa0\\xa0\\xa0\\xa0\\xa0\\xa0\\xa0\\xa0\\xa0\\xa0\\xa0\\xa0\\xa0\\xa0\\xa0\\xa0\\xa0 10 đôi;\\n- Xẻng:\\xa0\\xa0\\xa0\\xa0\\xa0\\xa0\\xa0\\xa0\\xa0\\xa0\\xa0\\xa0\\xa0\\xa0\\xa0\\xa0\\xa0\\xa0\\xa0\\xa0\\xa0\\xa0\\xa0\\xa0\\xa0\\xa0\\xa0\\xa0\\xa0\\xa0\\xa0\\xa0\\xa0\\xa0\\xa0\\xa0\\xa0\\xa0\\xa0\\xa0\\xa0\\xa0\\xa0\\xa0\\xa0\\xa0\\xa0\\xa0\\xa0 06 cái;\\n- Cuốc:\\xa0\\xa0\\xa0\\xa0\\xa0\\xa0\\xa0\\xa0\\xa0\\xa0\\xa0\\xa0\\xa0\\xa0\\xa0\\xa0\\xa0\\xa0\\xa0\\xa0\\xa0\\xa0\\xa0\\xa0\\xa0\\xa0\\xa0\\xa0\\xa0\\xa0\\xa0\\xa0\\xa0\\xa0\\xa0\\xa0\\xa0\\xa0\\xa0\\xa0\\xa0\\xa0\\xa0\\xa0\\xa0\\xa0\\xa0\\xa0\\xa0 06 cái;\\n- Mai đào đất:\\xa0\\xa0\\xa0\\xa0\\xa0\\xa0\\xa0\\xa0\\xa0\\xa0\\xa0\\xa0\\xa0\\xa0\\xa0\\xa0\\xa0\\xa0\\xa0\\xa0\\xa0\\xa0\\xa0\\xa0\\xa0\\xa0\\xa0\\xa0\\xa0\\xa0\\xa0\\xa0\\xa0\\xa0\\xa0\\xa0\\xa0\\xa0\\xa0 02 cái;\\n- Xè beng:\\xa0\\xa0\\xa0\\xa0\\xa0\\xa0\\xa0\\xa0\\xa0\\xa0\\xa0\\xa0\\xa0\\xa0\\xa0\\xa0\\xa0\\xa0\\xa0\\xa0\\xa0\\xa0\\xa0\\xa0\\xa0\\xa0\\xa0\\xa0\\xa0\\xa0\\xa0\\xa0\\xa0\\xa0\\xa0\\xa0\\xa0\\xa0\\xa0\\xa0\\xa0\\xa0\\xa0\\xa0\\xa0 01 cái;\\n- Dao:\\xa0\\xa0\\xa0\\xa0\\xa0\\xa0\\xa0\\xa0\\xa0\\xa0\\xa0\\xa0\\xa0\\xa0\\xa0\\xa0\\xa0\\xa0\\xa0\\xa0\\xa0\\xa0\\xa0\\xa0\\xa0\\xa0\\xa0\\xa0\\xa0\\xa0\\xa0\\xa0\\xa0\\xa0\\xa0\\xa0\\xa0\\xa0\\xa0\\xa0\\xa0\\xa0\\xa0\\xa0\\xa0\\xa0\\xa0\\xa0\\xa0\\xa0 10 con;\\n- Vồ:\\xa0\\xa0\\xa0\\xa0\\xa0\\xa0\\xa0\\xa0\\xa0\\xa0\\xa0\\xa0\\xa0\\xa0\\xa0\\xa0\\xa0\\xa0\\xa0\\xa0\\xa0\\xa0\\xa0\\xa0\\xa0\\xa0\\xa0\\xa0\\xa0\\xa0\\xa0\\xa0\\xa0\\xa0\\xa0\\xa0\\xa0\\xa0\\xa0\\xa0\\xa0\\xa0\\xa0\\xa0\\xa0\\xa0\\xa0\\xa0\\xa0\\xa0\\xa0\\xa0 05 cái;\\n- Đèn bão:\\xa0\\xa0\\xa0\\xa0\\xa0\\xa0\\xa0\\xa0\\xa0\\xa0\\xa0\\xa0\\xa0\\xa0\\xa0\\xa0\\xa0\\xa0\\xa0\\xa0\\xa0\\xa0\\xa0\\xa0\\xa0\\xa0\\xa0\\xa0\\xa0\\xa0\\xa0\\xa0\\xa0\\xa0\\xa0\\xa0\\xa0\\xa0\\xa0\\xa0\\xa0\\xa0\\xa0\\xa0 05 cái;\\n- Đèn ắc quy hoặc đèn pin:\\xa0\\xa0\\xa0\\xa0\\xa0\\xa0\\xa0\\xa0\\xa0\\xa0\\xa0\\xa0\\xa0\\xa0\\xa0\\xa0\\xa0\\xa0\\xa0\\xa0 05 cái;\\n- Trống hoặc kẻng:\\xa0\\xa0\\xa0\\xa0\\xa0\\xa0\\xa0\\xa0\\xa0\\xa0\\xa0\\xa0\\xa0\\xa0\\xa0\\xa0\\xa0\\xa0\\xa0\\xa0\\xa0\\xa0\\xa0\\xa0\\xa0\\xa0\\xa0\\xa0\\xa0\\xa0\\xa0\\xa0 01 cái;\\n- Biển tín hiệu báo động lũ:\\xa0\\xa0\\xa0\\xa0\\xa0\\xa0\\xa0\\xa0\\xa0\\xa0\\xa0\\xa0\\xa0\\xa0\\xa0\\xa0\\xa0\\xa0\\xa0\\xa0 01 bộ;\\n- Đèn tín hiệu báo động lũ:\\xa0\\xa0\\xa0\\xa0\\xa0\\xa0\\xa0\\xa0\\xa0\\xa0\\xa0\\xa0\\xa0\\xa0\\xa0\\xa0\\xa0\\xa0\\xa0\\xa0\\xa0 01 bộ;\\n- Tiêu, bảng báo hiệu hư hỏng: \\xa0\\xa0\\xa0\\xa0\\xa0\\xa0\\xa0\\xa0\\xa0\\xa0\\xa0\\xa0\\xa0\\xa0 20 cái;\\n- Dầu hỏa:\\xa0\\xa0\\xa0\\xa0\\xa0\\xa0\\xa0\\xa0\\xa0\\xa0\\xa0\\xa0\\xa0\\xa0\\xa0\\xa0\\xa0\\xa0\\xa0\\xa0\\xa0\\xa0\\xa0\\xa0\\xa0\\xa0\\xa0\\xa0\\xa0\\xa0\\xa0\\xa0 \\xa0\\xa0\\xa0\\xa0\\xa0\\xa0\\xa0\\xa0\\xa0\\xa0\\xa0 10 lít.\\nb) Về sổ sách:\\n- Sổ ghi danh sách, phân công người tuần tra canh gác theo từng ca, kíp trong ngày; ghi chỉ thị, ý kiến của cấp trên và những nội dung đã báo cáo với cấp trên trong ngày.\\n- Sổ nhật ký ghi chép diễn biến của đê, kè bảo vệ đê, cống qua đê và công trình quản lý khác;\\nNhững sổ sách trên phải giữ gìn cẩn thận, ghi chép rõ ràng và thường xuyên để ở trụ sở của đội (điếm canh đê hoặc nhà dân khu vực gần đê - đối với những khu vực chưa có điếm canh đê); nếu không có lệnh của đội trưởng thì không được mang sổ sách đi nơi khác.\\nc) Dụng cụ, sổ sách trên được để tại trụ sở của đội và được bàn giao giữa các kíp trực.\\n3. Kinh phí mua sắm dụng cụ, sổ sách quy định tại khoản 2 của Điều này lấy trong quỹ phòng, chống lụt, bão hoặc ngân sách hàng năm của địa phương.\\n4. Ủy ban nhân dân cấp huyện có đê, trước mùa lũ chịu trách nhiệm mua sắm dụng cụ, sổ sách quy định tại khoản 2 Điều này để cấp cho các đội tuần tra, canh gác đê.\\n5. Sau mùa lũ, đội trưởng các đội tuần tra, canh gác đê có trách nhiệm tổng hợp, thống kê và trao trả số dụng cụ quy định tại điểm a khoản 2 Điều này để bảo quản theo hướng dẫn của Ủy ban nhân dân cấp huyện.\\n6. Các loại sổ sách quy định tại điểm b khoản 2 Điều này, đội trưởng đội tuần tra, canh gác đê có trách nhiệm bàn giao cho đội chuyên trách quản lý đê Điều để xử lý và bảo quản.\\n7. Việc giao nhận các dụng cụ và sổ sách trên đây phải được lập biên bản để quản lý, theo dõi.'},\n",
       "  {'article_id': '7',\n",
       "   'title': 'Điều 7. Tín hiệu, cấp báo động lũ',\n",
       "   'text': '1. Khi báo động lũ ở cấp I trở lên, đội tuần tra, canh gác đê phải báo tín hiệu cấp báo động lũ tại các điếm canh đê, như sau:\\na) - Báo động lũ ở cấp I: 01 đèn màu xanh (ban ngày có thể bổ sung 01 biển hoặc cờ, hình tam giác màu đỏ để dễ nhận biết);\\n- Báo động lũ ở cấp II:\\xa0\\xa0\\xa0 02 đèn màu xanh (ban ngày có thể bổ sung 02 biển hoặc cờ, hình tam giác màu đỏ để dễ nhận biết);\\n- Báo động lũ ở cấp III: 03 đèn màu xanh (ban ngày có thể bổ sung 03 biển hoặc cờ, hình tam giác màu đỏ để dễ nhận biết).\\nb) Các biển (hoặc cờ), đèn báo hiệu được treo theo chiều dọc, với chiều cao thích hợp để mọi người trong khu vực nhìn thấy được.\\n2. Trường hợp khẩn cấp xảy ra sự cố nguy hiểm đe dọa đến an toàn của đê Điều, cần phải huy động lực lượng ứng cứu thì đội trưởng hoặc đội phó của đội tuần tra, canh gác đê cho đánh trống (hoặc kẻng) liên hồi để báo động.'},\n",
       "  {'article_id': '8',\n",
       "   'title': 'Điều 8. Quy định chế độ tuần tra, canh gác bảo vệ đê Điều',\n",
       "   'text': '1. Báo động lũ ở cấp I:\\nBố trí ngày 02 người, đêm 04 người. Ban ngày ít nhất sau 04 giờ có 01 kíp đi tuần, mỗi kíp có 01 người. Ban đêm ít nhất sau 04 giờ có 01 kíp đi tuần, mỗi kíp 02 người.\\n2. Báo động lũ ở cấp II:\\na) Bố trí ngày 04 người, đêm 06 người. Ban ngày ít nhất sau 02 giờ có 01 kíp đi tuần, mỗi kíp 02 người. Ban đêm ít nhất sau 02 giờ có 01 kíp đi tuần, mỗi kíp 03 người;\\nb) Trường hợp có tin bão khẩn cấp đổ bộ vào khu vực: bố trí ngày 06 người, đêm 12 người, chia thành các kíp, mỗi kíp 03 người; tùy theo diễn biến của bão, lũ và đặc điểm của tuyến đê, Ban chỉ huy phòng, chống lụt, bão cấp xã quyết định việc tăng cường số lần kiểm tra so với quy định tại điểm a khoản 2 Điều này.\\n3. Báo động lũ ở cấp III trở lên:\\na) Bố trí ngày 06 người, đêm 12 người, chia thành các kíp, mỗi kíp 03 người, không phân biệt ngày đêm các kíp phải liên tục thay phiên nhau kiểm tra;\\nb) Đối với các vị trí xung yếu của đê, kè bảo vệ đê, cống qua đê, bố trí thêm lực lượng để kiểm tra, phát hiện sự cố và báo cáo kịp thời.'},\n",
       "  {'article_id': '9',\n",
       "   'title': 'Điều 9. Nội dung tuần tra, canh gác đê',\n",
       "   'text': '1. Phạm vi tuần tra:\\na) Báo động lũ ở cấp I, bố trí người tuần tra như sau:\\n- Lượt đi: 01 người (ban ngày), 02 người (ban đêm) kiểm tra mặt đê, mái đê phía sông, khu vực hành lang bảo vệ đê phía sông;\\n- Lượt về: 01 người (ban ngày), 02 người (ban đêm) kiểm tra mái đê phía đồng, khu vực hành lang bảo vệ đê phía đồng, mặt ruộng, hồ ao gần chân đê phía đồng;\\nb) Báo động lũ ở cấp II, bố trí người tuần tra như sau:\\n- Lượt đi: 01 người kiểm tra mặt đê, mái đê phía sông, khu vực hành lang bảo vệ đê phía sông; 01 người (ban ngày), 02 người (ban đêm) kiểm tra mái đê phía đồng, khu vực hành lang bảo vệ đê phía đồng, mặt ruộng, hồ ao gần chân đê phía đồng;\\n- Lượt về: 01 người (ban ngày), 02 người (ban đêm) kiểm tra mặt đê, mái đê phía sông, khu vực hành lang bảo vệ đê phía sông; 01 người kiểm tra mái đê phía đồng, khu vực hành lang bảo vệ đê phía đồng, mặt ruộng, hồ ao gần chân đê phía đồng;\\nc) Báo động lũ ở cấp II và có tin bão khẩn cấp đổ bộ vào khu vực hoặc báo động lũ ở cấp III trở lên, bố trí người tuần tra như sau:\\n- Lượt đi: 02 người kiểm tra mái đê, khu vực hành lang bảo vệ đê phía đồng, mặt ruộng, hồ ao gần chân đê phía đồng; 01 người kiểm tra mặt đê.\\n- Lượt về: 02 người kiểm tra phía đồng; 01 người kiểm tra mặt đê, mái đê và khu vực hành lang bảo vệ đê phía sông.\\nd) Mỗi kíp tuần tra phải kiểm tra vượt quá phạm vi phụ trách về hai phía, mỗi phía 50m. Đối với những khu vực đã từng xảy ra sự cố hư hỏng, phải kiểm tra quan sát rộng hơn để phát hiện sự cố.\\n2. Người tuần tra, canh gác phải phát hiện kịp thời những hư hỏng của đê.\\n3. Khi phát hiện có hư hỏng, người tuần tra phải tiến hành các công việc sau:\\na) Xác định loại hư hỏng, vị trí, đặc điểm, kích thước của loại hư hỏng;\\nb) Xác định mực nước sông so với mặt đê tại vị trí phát sinh hư hỏng;\\nc) Đánh dấu bằng cách ghi bảng, cắm tiêu báo hiệu vị trí hư hỏng; nếu sự cố nghiêm trọng, phải cấm người, vật, xe cơ giới đi qua và bố trí người canh gác tại chỗ để theo dõi thường xuyên diễn biến của hư hỏng;\\nd) Báo cáo kịp thời và cụ thể tình hình hư hỏng cho đội trưởng hoặc đội phó, cán bộ chuyên trách quản lý đê Điều và Ban Chỉ huy phòng, chống lụt, bão xã.'},\n",
       "  {'article_id': '10',\n",
       "   'title': 'Điều 10. Nội dung tuần tra canh gác cống qua đê',\n",
       "   'text': '1. Khi lũ ở báo động I trở lên, đội tuần tra, canh gác đê phải phân công người theo dõi chặt chẽ diễn biến của các cống qua đê, ngăn chặn kịp thời những hành vi sử dụng cống trái phép trong mùa lũ.\\n2. Người tuần tra, canh gác phải kiểm tra kỹ phần tiếp giáp giữa thân cống, tường cánh gà của cống với đê; cánh cống, bộ phận đóng mở cánh cống, cửa cống, thân cống và khu vực thượng, hạ lưu cống để phát hiện kịp thời những sự cố xảy ra.\\n3. Khi phát hiện có hư hỏng của cống, người tuần tra, canh gác phải tiến hành các công việc như đối với quy định tại khoản 3 Điều 9 của Thông tư này.'},\n",
       "  {'article_id': '11',\n",
       "   'title': 'Điều 11. Nội dung tuần tra canh gác kè bảo vệ đê',\n",
       "   'text': '1. Khi mái kè chưa bị ngập nước:\\na) Kiểm tra mái kè; quan sát dòng chảy khu vực kè.\\nb) Nếu phát hiện thấy hư hỏng phải:\\n- Xác định vị trí, loại hư hỏng, đặc điểm và kích thước hư hỏng, mực nước sông so với đỉnh kè;\\n- Đánh dấu bằng cách ghi bảng, cắm tiêu, bảng báo hiệu vị trí hư hỏng; thường xuyên theo dõi diễn biến của hư hỏng;\\n- Báo cáo kịp thời và cụ thể tình hình hư hỏng cho đội trưởng, đội phó, cán bộ chuyên trách quản lý đê Điều và Ban Chỉ huy phòng, chống lụt, bão xã.\\n2. Khi kè bị ngập nước:\\na) Tại những kè xung yếu, khi nước chưa ngập đỉnh kè, đội tuần tra, canh gác đê có nhiệm vụ cắm các hàng tiêu để quan sát sự xói lở của kè; các hàng tiêu có thể được cắm như sau:\\n- Cắm tiêu dọc theo kè cách đỉnh kè 01 mét và vượt quá đầu và đuôi kè từ 20 mét đến 30 mét. Những vị trí xung yếu của kè cắm ít nhất từ 02 hàng tiêu trở lên. Khoảng cách giữa các tiêu từ 03 mét đến 04 mét, hàng nọ cách hàng kia từ 02 mét đến 2,5 mét. Tiêu cắm so le nhau;\\n- Tiêu có thể được làm bằng tre, nứa hoặc gỗ …; dài từ 04 mét đến 05 mét; cắm sâu xuống đất và được đánh số thứ tự đầu đến đuôi kè.\\nb) Theo dõi chặt chẽ các hàng tiêu đã cắm, khi phát hiện tiêu bị đổ phải kiểm tra và báo cáo ngay với đội trưởng, đội phó, cán bộ chuyên trách quản lý đê Điều và Ban Chỉ huy phòng, chống lụt, bão xã.\\n3. Khi lũ rút: Khi nước đã rút khỏi bãi và mái kè, người tuần tra phải xem xét tỷ mỉ từng bộ phận của kè, phát hiện hư hỏng xảy ra.\\n4. Sau mỗi đợt lũ các đội trưởng phải tập hợp tình hình diễn biến và hư hỏng của kè, báo cáo cán bộ chuyên trách quản lý đê Điều và Ban Chỉ huy phòng, chống lụt, bão xã.'},\n",
       "  {'article_id': '12',\n",
       "   'title': 'Điều 12. Chế độ báo cáo',\n",
       "   'text': '1. Người tuần tra, canh gác đê trong khi làm nhiệm vụ phát hiện thấy \\xa0có hư hỏng của đê Điều phải tìm mọi cách nhanh chóng báo cáo cán bộ chuyên trách quản lý đê Điều và Ban Chỉ huy phòng, chống lụt, bão xã để tiến hành xử lý kịp thời.\\n2. Nội dung báo cáo:\\n- Thời gian phát hiện hư hỏng;\\n- Vị trí, đặc điểm, kích thước, diễn biến của hư hỏng và mức độ nguy hiểm;\\n- Đề xuất biện pháp xử lý.\\n3. Trường hợp xét thấy hư hỏng có khả năng diễn biến xấu, đội trưởng phải cử người tăng cường, theo dõi tại chỗ và cứ 30 phút phải báo cáo một lần.\\nTrường hợp hư hỏng có nguy cơ đe dọa an toàn của công trình, phải tiến hành xử lý gấp nhằm ngăn chặn và hạn chế hư hỏng phát triển thêm đồng thời phát tín hiệu báo động theo quy định khoản 2 Điều 7 của Thông tư này. Trong khi chờ lực lượng ứng cứu, những người được phân công theo dõi tuyệt đối không được rời vị trí được giao.\\n4. Khi có sự cố xảy ra, ngoài việc theo dõi và tham gia xử lý, các đội tuần tra, canh gác đê vẫn phải bảo đảm chế độ tuần tra, canh gác đối với toàn bộ đoạn đê được phân công phụ trách.'},\n",
       "  {'article_id': '13',\n",
       "   'title': 'Điều 13. Quy định về bàn giao giữa các kíp trực',\n",
       "   'text': 'Sau mỗi đợt kiểm tra, các kíp tuần tra, canh gác đê phải ghi chép đầy đủ tình hình diễn biến và hư hỏng đê Điều vào sổ nhật ký tuần tra, canh gác theo mẫu quy định và bàn giao đầy đủ cho kíp sau. Người thay mặt kíp giao và nhận phải ký và ghi rõ họ tên, ngày giờ vào sổ. Sau mỗi ngày đội trưởng và cán bộ chuyên trách quản lý đê Điều ký xác nhận tình hình trong ngày để theo dõi và làm cơ sở cho việc chi trả thù lao theo quy định.'},\n",
       "  {'article_id': '14',\n",
       "   'title': 'Điều 14. Chế độ, chính sách đối với lực lượng tuần tra, canh gác đê',\n",
       "   'text': '1. Người tuần tra, canh gác đê được hưởng thù lao, mức thù lao cho lực lượng này do Ủy ban nhân dân cấp tỉnh quy định, theo hướng dẫn của Bộ Tài chính và Bộ Nông nghiệp và Phát triển nông thôn.\\n2. Trước mùa lũ hàng năm các thành viên đội tuần tra, canh gác đê được tập trung huấn luyện, hướng dẫn nghiệp vụ tuần tra canh gác, hộ đê, phòng, chống, lụt, bão. Những ngày dự huấn luyện được coi như trực tiếp làm nhiệm vụ và được hưởng mức thù lao theo quy định ở khoản 1 Điều này.\\n3. Người bị thương, người bị thiệt hại tính mạng trong khi làm nhiệm vụ được xét hưởng chế độ, chính sách như đối với lực lượng vũ trang tham gia hộ đê theo quy định của pháp Luật.'},\n",
       "  {'article_id': '15',\n",
       "   'title': 'Điều 15. Khen thưởng, kỷ Luật',\n",
       "   'text': '1. Những đơn vị và cá nhân thực hiện tốt quy định tại Thông tư \\xa0này và có thành tích xuất sắc trong công tác tuần tra, canh gác đê sẽ được khen thưởng.\\n2. Những đơn vị và cá nhân vi phạm quy định tại Thông tư này tuỳ theo lỗi nặng nhẹ sẽ bị thi hành kỷ Luật từ cảnh cáo đến truy tố trước pháp Luật của Nhà nước.'},\n",
       "  {'article_id': '16',\n",
       "   'title': 'Điều 16. Trách nhiệm của Uỷ ban nhân dân cấp huyện, cấp xã nơi có đê',\n",
       "   'text': '1. Trách nhiệm của Uỷ ban nhân dân cấp huyện nơi có đê:\\na) Hướng dẫn các xã có đê tổ chức lực lượng tuần tra, canh gác đê; hướng dẫn hoạt động và kiểm tra, đôn đốc công tác tuần tra, canh gác.\\nb) Chủ trì, tổ chức chỉ đạo các đơn vị, phối hợp với cơ quan chuyên trách quản lý đê Điều huấn luyện nghiệp vụ tuần tra, canh gác, hộ đê, phòng, chống lụt, bão cho lực lượng tuần tra, canh gác đê.\\nc) Trang bị và hướng dẫn việc quản lý sử dụng các dụng cụ, sổ sách cho các đội tuần tra, canh gác đê theo quy định tại khoản 2 Điều 6 của Thông tư này.\\n2. Trách nhiệm của Uỷ ban nhân dân cấp xã nơi có đê\\na) Tổ chức lực lượng tuần tra, canh gác đê trong mùa lũ ở các tuyến đê thuộc địa bàn.\\nb) Trực tiếp quản lý và chỉ đạo lực lượng tuần tra, canh gác đê theo các quy định tại Thông tư này.'},\n",
       "  {'article_id': '17',\n",
       "   'title': 'Điều 17. Trách nhiệm của Sở Nông nghiệp và Phát triển nông thôn',\n",
       "   'text': '1. Tham mưu cho Ủy ban nhân dân cấp tỉnh, phối hợp với các đơn vị xây dựng và trình duyệt mức thù lao và các chế độ chính sách đối với lực lượng tuần tra, canh gác đê.\\n2. Phối hợp với Uỷ ban nhân dân cấp huyện, cấp xã để tổ chức, hướng dẫn hoạt động của lực lượng tuần tra, canh gác đê; chỉ đạo lực lượng chuyên trách quản lý đê Điều trực tiếp hướng dẫn chuyên môn, nghiệp vụ cho lực lượng này trước và trong mùa lũ.\\n3. Khi có báo động lũ từ cấp I trở lên, Sở Nông nghiệp và Phát triển nông thôn phải chỉ đạo, tổ chức kiểm tra, đôn đốc công tác tuần tra, canh gác ở các tuyến đê.'}]}"
      ]
     },
     "execution_count": 3,
     "metadata": {},
     "output_type": "execute_result"
    }
   ],
   "source": [
    "with open('/home/link/spaces/LinhCSE/data/full/corpus_legal.json') as f:\n",
    "    data = json.load(f)\n",
    "data[0]"
   ]
  },
  {
   "cell_type": "code",
   "execution_count": 10,
   "metadata": {},
   "outputs": [],
   "source": [
    "corpus = []\n",
    "for item in data:\n",
    "    doc = {\n",
    "        \"document_id\": item['law_id'],\n",
    "        \"sections\": []\n",
    "    }\n",
    "    for article in item['articles']:\n",
    "        content = article['text'].replace(\"\\n\", \". \")\n",
    "        chunk = {\n",
    "            \"section_index\": len(doc['sections']),\n",
    "            \"title\": article['title'],\n",
    "            \"content\": f\"{article['title']}. {content}\"\n",
    "        }\n",
    "        doc['sections'].append(chunk)\n",
    "    corpus.append(doc)"
   ]
  },
  {
   "cell_type": "code",
   "execution_count": 11,
   "metadata": {},
   "outputs": [],
   "source": [
    "with open('/home/link/spaces/LinhCSE/data/full/corpus.json', 'w', encoding='utf-8') as file:\n",
    "    json.dump(corpus, file, ensure_ascii=False)"
   ]
  }
 ],
 "metadata": {
  "kernelspec": {
   "display_name": "conlearn",
   "language": "python",
   "name": "python3"
  },
  "language_info": {
   "codemirror_mode": {
    "name": "ipython",
    "version": 3
   },
   "file_extension": ".py",
   "mimetype": "text/x-python",
   "name": "python",
   "nbconvert_exporter": "python",
   "pygments_lexer": "ipython3",
   "version": "3.9.18"
  }
 },
 "nbformat": 4,
 "nbformat_minor": 2
}
