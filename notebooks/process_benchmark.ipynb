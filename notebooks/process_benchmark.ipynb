{
 "cells": [
  {
   "cell_type": "code",
   "execution_count": 19,
   "metadata": {},
   "outputs": [],
   "source": [
    "import pandas as pd\n",
    "import json\n",
    "import uuid\n",
    "from tqdm import tqdm"
   ]
  },
  {
   "cell_type": "code",
   "execution_count": 12,
   "metadata": {},
   "outputs": [
    {
     "data": {
      "text/html": [
       "<div>\n",
       "<style scoped>\n",
       "    .dataframe tbody tr th:only-of-type {\n",
       "        vertical-align: middle;\n",
       "    }\n",
       "\n",
       "    .dataframe tbody tr th {\n",
       "        vertical-align: top;\n",
       "    }\n",
       "\n",
       "    .dataframe thead th {\n",
       "        text-align: right;\n",
       "    }\n",
       "</style>\n",
       "<table border=\"1\" class=\"dataframe\">\n",
       "  <thead>\n",
       "    <tr style=\"text-align: right;\">\n",
       "      <th></th>\n",
       "      <th>law_title</th>\n",
       "      <th>article_id</th>\n",
       "      <th>article_title</th>\n",
       "      <th>clause_id</th>\n",
       "      <th>point_id</th>\n",
       "      <th>sentence_id</th>\n",
       "      <th>content</th>\n",
       "      <th>content_length</th>\n",
       "    </tr>\n",
       "  </thead>\n",
       "  <tbody>\n",
       "    <tr>\n",
       "      <th>0</th>\n",
       "      <td>01/2009/tt-bnn</td>\n",
       "      <td>1</td>\n",
       "      <td>Điều 1. Phạm vi áp dụng</td>\n",
       "      <td>0</td>\n",
       "      <td>0</td>\n",
       "      <td>0</td>\n",
       "      <td>thông tư này hướng dẫn tuần tra, canh gác bảo ...</td>\n",
       "      <td>37</td>\n",
       "    </tr>\n",
       "    <tr>\n",
       "      <th>1</th>\n",
       "      <td>01/2009/tt-bnn</td>\n",
       "      <td>2</td>\n",
       "      <td>Điều 2. Tổ chức lực lượng</td>\n",
       "      <td>1</td>\n",
       "      <td>1</td>\n",
       "      <td>0</td>\n",
       "      <td>khoản 1. hàng năm trước mùa mưa, lũ, ủy ban n...</td>\n",
       "      <td>86</td>\n",
       "    </tr>\n",
       "    <tr>\n",
       "      <th>2</th>\n",
       "      <td>01/2009/tt-bnn</td>\n",
       "      <td>2</td>\n",
       "      <td>Điều 2. Tổ chức lực lượng</td>\n",
       "      <td>2</td>\n",
       "      <td>1</td>\n",
       "      <td>0</td>\n",
       "      <td>khoản 2. lực lượng tuần tra, canh gác đê được...</td>\n",
       "      <td>80</td>\n",
       "    </tr>\n",
       "    <tr>\n",
       "      <th>3</th>\n",
       "      <td>01/2009/tt-bnn</td>\n",
       "      <td>2</td>\n",
       "      <td>Điều 2. Tổ chức lực lượng</td>\n",
       "      <td>3</td>\n",
       "      <td>1</td>\n",
       "      <td>0</td>\n",
       "      <td>khoản 3. khi lũ, bão có diễn biến phức tạp, k...</td>\n",
       "      <td>36</td>\n",
       "    </tr>\n",
       "    <tr>\n",
       "      <th>4</th>\n",
       "      <td>01/2009/tt-bnn</td>\n",
       "      <td>3</td>\n",
       "      <td>Điều 3. Tiêu chuẩn của các thành viên thuộc lự...</td>\n",
       "      <td>1</td>\n",
       "      <td>1</td>\n",
       "      <td>0</td>\n",
       "      <td>khoản 1. là người khoẻ mạnh, tháo vát, đủ khả...</td>\n",
       "      <td>27</td>\n",
       "    </tr>\n",
       "  </tbody>\n",
       "</table>\n",
       "</div>"
      ],
      "text/plain": [
       "        law_title  article_id  \\\n",
       "0  01/2009/tt-bnn           1   \n",
       "1  01/2009/tt-bnn           2   \n",
       "2  01/2009/tt-bnn           2   \n",
       "3  01/2009/tt-bnn           2   \n",
       "4  01/2009/tt-bnn           3   \n",
       "\n",
       "                                       article_title  clause_id  point_id  \\\n",
       "0                            Điều 1. Phạm vi áp dụng          0         0   \n",
       "1                          Điều 2. Tổ chức lực lượng          1         1   \n",
       "2                          Điều 2. Tổ chức lực lượng          2         1   \n",
       "3                          Điều 2. Tổ chức lực lượng          3         1   \n",
       "4  Điều 3. Tiêu chuẩn của các thành viên thuộc lự...          1         1   \n",
       "\n",
       "   sentence_id                                            content  \\\n",
       "0            0  thông tư này hướng dẫn tuần tra, canh gác bảo ...   \n",
       "1            0   khoản 1. hàng năm trước mùa mưa, lũ, ủy ban n...   \n",
       "2            0   khoản 2. lực lượng tuần tra, canh gác đê được...   \n",
       "3            0   khoản 3. khi lũ, bão có diễn biến phức tạp, k...   \n",
       "4            0   khoản 1. là người khoẻ mạnh, tháo vát, đủ khả...   \n",
       "\n",
       "   content_length  \n",
       "0              37  \n",
       "1              86  \n",
       "2              80  \n",
       "3              36  \n",
       "4              27  "
      ]
     },
     "execution_count": 12,
     "metadata": {},
     "output_type": "execute_result"
    }
   ],
   "source": [
    "data_256 = pd.read_csv('/home/link/spaces/LinhCSE/raw/legal_corpus_merged_u256.csv')\n",
    "data_256.head()"
   ]
  },
  {
   "cell_type": "code",
   "execution_count": 13,
   "metadata": {},
   "outputs": [
    {
     "data": {
      "text/plain": [
       "(391391, 8)"
      ]
     },
     "execution_count": 13,
     "metadata": {},
     "output_type": "execute_result"
    }
   ],
   "source": [
    "data_256.shape"
   ]
  },
  {
   "cell_type": "code",
   "execution_count": 14,
   "metadata": {},
   "outputs": [
    {
     "data": {
      "text/plain": [
       "3205"
      ]
     },
     "execution_count": 14,
     "metadata": {},
     "output_type": "execute_result"
    }
   ],
   "source": [
    "all_document_id = set(data_256['law_title'].tolist())\n",
    "len(all_document_id)"
   ]
  },
  {
   "cell_type": "code",
   "execution_count": 21,
   "metadata": {},
   "outputs": [],
   "source": [
    "corpus = []\n",
    "for id in all_document_id:\n",
    "    item = {\n",
    "        \"document_id\": id,\n",
    "        \"section\": []\n",
    "    }\n",
    "    corpus.append(item)"
   ]
  },
  {
   "cell_type": "code",
   "execution_count": null,
   "metadata": {},
   "outputs": [
    {
     "name": "stderr",
     "output_type": "stream",
     "text": [
      "100%|██████████| 3205/3205 [01:22<00:00, 38.86it/s]\n"
     ]
    }
   ],
   "source": [
    "# Create a set of unique law titles from data_256\n",
    "law_titles = set(data_256['law_title'])\n",
    "\n",
    "# Iterate over the corpus and directly access matching rows from data_256\n",
    "for doc in tqdm(corpus):\n",
    "    if doc['document_id'] in law_titles:\n",
    "        matching_rows = data_256[data_256['law_title'] == doc['document_id']]\n",
    "        for index, row in matching_rows.iterrows():\n",
    "            item = {\n",
    "                \"section_id\": str(uuid.uuid4()).replace(\"-\", \"\"),\n",
    "                \"section_index\": len(doc['section']),\n",
    "                \"title\": row['article_title'],\n",
    "                \"content\": row['content']\n",
    "            }\n",
    "            doc['section'].append(item)"
   ]
  },
  {
   "cell_type": "code",
   "execution_count": 30,
   "metadata": {},
   "outputs": [
    {
     "data": {
      "text/plain": [
       "3205"
      ]
     },
     "execution_count": 30,
     "metadata": {},
     "output_type": "execute_result"
    }
   ],
   "source": [
    "len(corpus)"
   ]
  },
  {
   "cell_type": "code",
   "execution_count": 32,
   "metadata": {},
   "outputs": [],
   "source": [
    "with open('/home/link/spaces/LinhCSE/data/corpus.json', 'w', encoding='utf-8') as file:\n",
    "    json.dump(corpus, file, ensure_ascii=False)"
   ]
  },
  {
   "cell_type": "code",
   "execution_count": null,
   "metadata": {},
   "outputs": [],
   "source": [
    "with open('/home/link/spaces/LinhCSE/data/corpus.json') as f:\n",
    "    temp = json.load(f)\n",
    "temp[0]"
   ]
  },
  {
   "cell_type": "code",
   "execution_count": null,
   "metadata": {},
   "outputs": [],
   "source": []
  }
 ],
 "metadata": {
  "kernelspec": {
   "display_name": "conlearn",
   "language": "python",
   "name": "python3"
  },
  "language_info": {
   "codemirror_mode": {
    "name": "ipython",
    "version": 3
   },
   "file_extension": ".py",
   "mimetype": "text/x-python",
   "name": "python",
   "nbconvert_exporter": "python",
   "pygments_lexer": "ipython3",
   "version": "3.9.18"
  }
 },
 "nbformat": 4,
 "nbformat_minor": 2
}
