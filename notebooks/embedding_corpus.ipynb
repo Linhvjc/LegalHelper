{
 "cells": [
  {
   "cell_type": "code",
   "execution_count": 22,
   "metadata": {},
   "outputs": [],
   "source": [
    "from transformers import AutoModel\n",
    "from transformers import AutoTokenizer"
   ]
  },
  {
   "cell_type": "code",
   "execution_count": 23,
   "metadata": {},
   "outputs": [
    {
     "name": "stderr",
     "output_type": "stream",
     "text": [
      "Special tokens have been added in the vocabulary, make sure the associated word embeddings are fine-tuned or trained.\n",
      "Some weights of the model checkpoint at /home/link/spaces/LinhCSE/models/retriever were not used when initializing RobertaModel: ['mlp.dense.bias', 'lm_head.dense.weight', 'mlp.dense.weight', 'lm_head.layer_norm.weight', 'lm_head.dense.bias', 'lm_head.bias', 'lm_head.layer_norm.bias']\n",
      "- This IS expected if you are initializing RobertaModel from the checkpoint of a model trained on another task or with another architecture (e.g. initializing a BertForSequenceClassification model from a BertForPreTraining model).\n",
      "- This IS NOT expected if you are initializing RobertaModel from the checkpoint of a model that you expect to be exactly identical (initializing a BertForSequenceClassification model from a BertForSequenceClassification model).\n",
      "Some weights of RobertaModel were not initialized from the model checkpoint at /home/link/spaces/LinhCSE/models/retriever and are newly initialized: ['roberta.pooler.dense.weight', 'roberta.pooler.dense.bias']\n",
      "You should probably TRAIN this model on a down-stream task to be able to use it for predictions and inference.\n"
     ]
    }
   ],
   "source": [
    "model_path = '/home/link/spaces/LinhCSE/models/retriever'\n",
    "tokenizer = AutoTokenizer.from_pretrained('vinai/phobert-base-v2')\n",
    "model = AutoModel.from_pretrained(model_path)"
   ]
  },
  {
   "cell_type": "code",
   "execution_count": 24,
   "metadata": {},
   "outputs": [],
   "source": [
    "import torch\n",
    "device = torch.device('cuda' if torch.cuda.is_available() else 'cpu')\n",
    "model = model.to(device)"
   ]
  },
  {
   "cell_type": "code",
   "execution_count": 11,
   "metadata": {},
   "outputs": [],
   "source": [
    "def encode(texts, max_seq_len=256, return_output='np', **kwargs):\n",
    "    features = tokenizer(\n",
    "        texts,\n",
    "        max_length=max_seq_len,\n",
    "        padding='max_length',\n",
    "        truncation=True,\n",
    "        return_tensors='pt',\n",
    "        pad_to_multiple_of=256,\n",
    "    )\n",
    "    with torch.no_grad():\n",
    "        inputs = {\n",
    "            'input_ids': features['input_ids'].to(model.device),\n",
    "            'attention_mask': features['attention_mask'].to(model.device),\n",
    "            'token_type_ids': features['token_type_ids'].to(model.device),\n",
    "        }\n",
    "        embedding = model(**inputs)\n",
    "        embedding = embedding.last_hidden_state[:, 0, :]  # CLS token\n",
    "        # embedding = embedding.last_hidden_state.mean(dim=1)  # AVG token\n",
    "\n",
    "    if return_output == 'np':\n",
    "        embedding.detach().cpu().numpy()\n",
    "    return embedding"
   ]
  },
  {
   "cell_type": "code",
   "execution_count": 25,
   "metadata": {},
   "outputs": [],
   "source": [
    "import json\n",
    "from tqdm import tqdm \n",
    "from pyvi import ViTokenizer"
   ]
  },
  {
   "cell_type": "code",
   "execution_count": 26,
   "metadata": {},
   "outputs": [],
   "source": [
    "with open('/home/link/spaces/LinhCSE/data/369/corpus.json') as f:\n",
    "    corpus = json.load(f)"
   ]
  },
  {
   "cell_type": "code",
   "execution_count": 27,
   "metadata": {},
   "outputs": [],
   "source": [
    "from src.retriever.utils.normalize import normalize_encode\n",
    "from src.retriever.utils.normalize import normalize_word_diacritic\n",
    "from src.retriever.utils.normalize import remove_punctuation\n",
    "def pre_process(text):\n",
    "    text = normalize_encode(normalize_word_diacritic(text))\n",
    "    text = text.lower()\n",
    "    text = remove_punctuation(text)\n",
    "    return text"
   ]
  },
  {
   "cell_type": "code",
   "execution_count": 28,
   "metadata": {},
   "outputs": [
    {
     "name": "stderr",
     "output_type": "stream",
     "text": [
      "  0%|          | 0/3207 [00:00<?, ?it/s]"
     ]
    },
    {
     "name": "stderr",
     "output_type": "stream",
     "text": [
      "100%|██████████| 3207/3207 [05:37<00:00,  9.49it/s]\n"
     ]
    }
   ],
   "source": [
    "all_texts = []\n",
    "for document in tqdm(corpus):\n",
    "    for chunk in document['sections']:\n",
    "        text = ViTokenizer.tokenize(chunk['content'])\n",
    "        text = pre_process(text)\n",
    "        all_texts.append(text)"
   ]
  },
  {
   "cell_type": "code",
   "execution_count": 29,
   "metadata": {},
   "outputs": [
    {
     "name": "stderr",
     "output_type": "stream",
     "text": [
      "  0%|          | 0/761 [00:00<?, ?it/s]"
     ]
    },
    {
     "name": "stderr",
     "output_type": "stream",
     "text": [
      "100%|██████████| 761/761 [31:34<00:00,  2.49s/it]\n"
     ]
    }
   ],
   "source": [
    "import numpy as np\n",
    "embedding_query = None\n",
    "for i in tqdm(range(0, len(all_texts), 512)):\n",
    "    # for query in all_texts[i: i + 64]:\n",
    "        queries = all_texts[i: i + 512]\n",
    "        # queries.append(query)\n",
    "\n",
    "        embedding = encode(queries)\n",
    "        if embedding_query is None:\n",
    "            embedding_query = embedding.detach().cpu().numpy()\n",
    "        else:\n",
    "            embedding_query = np.append(\n",
    "                embedding_query,\n",
    "                embedding.detach().cpu().numpy(),\n",
    "                axis=0,\n",
    "            )"
   ]
  },
  {
   "cell_type": "code",
   "execution_count": 30,
   "metadata": {},
   "outputs": [],
   "source": [
    "np.save('/home/link/spaces/LinhCSE/data/369/embeddings_corpus.npy', embedding_query)"
   ]
  },
  {
   "cell_type": "code",
   "execution_count": 31,
   "metadata": {},
   "outputs": [],
   "source": [
    "embeddings_loaded = np.load('/home/link/spaces/LinhCSE/data/369/embeddings_corpus.npy')"
   ]
  },
  {
   "cell_type": "code",
   "execution_count": 32,
   "metadata": {},
   "outputs": [
    {
     "data": {
      "text/plain": [
       "(389389, 768)"
      ]
     },
     "execution_count": 32,
     "metadata": {},
     "output_type": "execute_result"
    }
   ],
   "source": [
    "embeddings_loaded.shape"
   ]
  },
  {
   "cell_type": "code",
   "execution_count": 20,
   "metadata": {},
   "outputs": [
    {
     "data": {
      "text/plain": [
       "(391391, 768)"
      ]
     },
     "execution_count": 20,
     "metadata": {},
     "output_type": "execute_result"
    }
   ],
   "source": [
    "embedding_query.shape"
   ]
  },
  {
   "cell_type": "code",
   "execution_count": null,
   "metadata": {},
   "outputs": [],
   "source": [
    "with torch.no_grad():\n",
    "    for document in tqdm(corpus):\n",
    "        for chunk in document['section']:\n",
    "            text = ViTokenizer.tokenize(chunk['content'])\n",
    "            text = pre_process(text)\n",
    "\n",
    "            chunk[\"embedding\"] = embedding_query[0]\n",
    "            embedding_query = embedding_query[1:]"
   ]
  }
 ],
 "metadata": {
  "kernelspec": {
   "display_name": "conlearn",
   "language": "python",
   "name": "python3"
  },
  "language_info": {
   "codemirror_mode": {
    "name": "ipython",
    "version": 3
   },
   "file_extension": ".py",
   "mimetype": "text/x-python",
   "name": "python",
   "nbconvert_exporter": "python",
   "pygments_lexer": "ipython3",
   "version": "3.9.18"
  }
 },
 "nbformat": 4,
 "nbformat_minor": 2
}
