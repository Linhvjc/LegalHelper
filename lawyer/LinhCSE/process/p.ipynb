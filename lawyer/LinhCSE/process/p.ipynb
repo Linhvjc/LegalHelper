{
 "cells": [
  {
   "cell_type": "code",
   "execution_count": 31,
   "metadata": {},
   "outputs": [],
   "source": [
    "from datasets import load_dataset\n",
    "from tqdm import tqdm\n",
    "from pyvi import ViTokenizer"
   ]
  },
  {
   "cell_type": "code",
   "execution_count": 32,
   "metadata": {},
   "outputs": [
    {
     "name": "stderr",
     "output_type": "stream",
     "text": [
      " 82%|████████▏ | 36717/45018 [06:03<01:22, 101.04it/s]  \n"
     ]
    },
    {
     "data": {
      "text/plain": [
       "5000"
      ]
     },
     "execution_count": 32,
     "metadata": {},
     "output_type": "execute_result"
    }
   ],
   "source": [
    "data = load_dataset(\n",
    "    'json', data_files='/home/link/spaces/chunking/LinhCSE_training/process/train.jsonl')['train']\n",
    "\n",
    "final = []\n",
    "count = 0\n",
    "for item in tqdm(data):\n",
    "    query = ViTokenizer.tokenize(item['summary'])\n",
    "    document = ViTokenizer.tokenize(item['content'])\n",
    "    if len(document.split()) < 256:\n",
    "        final.append({\n",
    "            'query': query,\n",
    "            'document': document\n",
    "        })\n",
    "        count += 1\n",
    "        if count == 5000:\n",
    "            break\n",
    "\n",
    "    \n",
    "len(final)"
   ]
  },
  {
   "cell_type": "code",
   "execution_count": 33,
   "metadata": {},
   "outputs": [],
   "source": [
    "import uuid\n",
    "def generate_id():\n",
    "    return uuid.uuid4().hex"
   ]
  },
  {
   "cell_type": "code",
   "execution_count": 34,
   "metadata": {},
   "outputs": [
    {
     "data": {
      "text/plain": [
       "{'query': 'người_dân phát_hiện tử_thi một nam thanh_niên độ tuổi 20 30 cẳng tay_trái xăm chữ hận người cảnh_sát hiện chưa có thông_tin về nhân_thân người này',\n",
       " 'document': 'ngày 1011 cơ_quan cảnh_sát điều_tra công_an quận thanh_xuân tp hà_nội đang xác_minh danh_tính một thi_thể được phát_hiện_tại phường nhân_chính theo cơ_quan_chức_năng rạng sáng 811 cảnh_sát địa_phương nhận tin báo về việc phát_hiện tử_thi một nam_giới tại số 25 lê_văn_lương hình_xăm trên cẳng tay_trái tử_thi ảnh antđ qua khám_nghiệm ban_đầu nhà_chức_trách xác_định người tử_vong khoảng 20 30 tuổi cao 1 m65 đặc_điểm nhận_dạng là đeo khuyên tai_hình tròn màu bạc ở tai phải cẳng tay_trái xăm chữ hận người cẳng tay_phải xăm hoa_văn người này mặc áo_phông cộc tay màu tím quần_bò ngố màu xanh hiện công_an quận thanh_xuân chưa xác_định được nhân_thân nam thanh_niên này vì_vậy cơ_quan_chức_năng kêu_gọi người_dân nếu có thông_tin về người có đặc_điểm nhận_dạng giống như trên hãy cung_cấp cho công_an quận thanh_xuân số 58 vũ_trọng_phụng phường thanh_xuân trung hoặc liên_hệ qua số điện_thoại 098 717 8799'}"
      ]
     },
     "execution_count": 34,
     "metadata": {},
     "output_type": "execute_result"
    }
   ],
   "source": [
    "final[0]"
   ]
  },
  {
   "cell_type": "code",
   "execution_count": 35,
   "metadata": {},
   "outputs": [],
   "source": [
    "for item in final:\n",
    "    item['query_id'] = generate_id()\n",
    "    item['doc_id'] = generate_id()"
   ]
  },
  {
   "cell_type": "code",
   "execution_count": 36,
   "metadata": {},
   "outputs": [
    {
     "data": {
      "text/plain": [
       "{'query': 'người_dân phát_hiện tử_thi một nam thanh_niên độ tuổi 20 30 cẳng tay_trái xăm chữ hận người cảnh_sát hiện chưa có thông_tin về nhân_thân người này',\n",
       " 'document': 'ngày 1011 cơ_quan cảnh_sát điều_tra công_an quận thanh_xuân tp hà_nội đang xác_minh danh_tính một thi_thể được phát_hiện_tại phường nhân_chính theo cơ_quan_chức_năng rạng sáng 811 cảnh_sát địa_phương nhận tin báo về việc phát_hiện tử_thi một nam_giới tại số 25 lê_văn_lương hình_xăm trên cẳng tay_trái tử_thi ảnh antđ qua khám_nghiệm ban_đầu nhà_chức_trách xác_định người tử_vong khoảng 20 30 tuổi cao 1 m65 đặc_điểm nhận_dạng là đeo khuyên tai_hình tròn màu bạc ở tai phải cẳng tay_trái xăm chữ hận người cẳng tay_phải xăm hoa_văn người này mặc áo_phông cộc tay màu tím quần_bò ngố màu xanh hiện công_an quận thanh_xuân chưa xác_định được nhân_thân nam thanh_niên này vì_vậy cơ_quan_chức_năng kêu_gọi người_dân nếu có thông_tin về người có đặc_điểm nhận_dạng giống như trên hãy cung_cấp cho công_an quận thanh_xuân số 58 vũ_trọng_phụng phường thanh_xuân trung hoặc liên_hệ qua số điện_thoại 098 717 8799',\n",
       " 'query_id': '01a917644d9f48e3b3ad329fd0e93c1b',\n",
       " 'doc_id': '1cde73fd0504496c894d385e234aeb30'}"
      ]
     },
     "execution_count": 36,
     "metadata": {},
     "output_type": "execute_result"
    }
   ],
   "source": [
    "final[0]"
   ]
  },
  {
   "cell_type": "code",
   "execution_count": 37,
   "metadata": {},
   "outputs": [],
   "source": [
    "bm, corpus = [], []\n",
    "for item in final:\n",
    "    bm_item = {\n",
    "        \"id\": item['query_id'],\n",
    "        \"query\": item['query'],\n",
    "        \"gt\": [\n",
    "            item['doc_id']\n",
    "        ]\n",
    "    }\n",
    "    bm.append(bm_item)\n",
    "\n",
    "    corpus_item = {\n",
    "        'text': item['document'],\n",
    "        'meta':{'id': item['doc_id']}\n",
    "    }\n",
    "    corpus.append(corpus_item)"
   ]
  },
  {
   "cell_type": "code",
   "execution_count": 38,
   "metadata": {},
   "outputs": [],
   "source": [
    "import json\n",
    "# Save the JSON data to a file\n",
    "with open('/home/link/spaces/chunking/LinhCSE_training/benchmark/bm_shortgeneral_news.json', 'w', encoding='utf-8') as file:\n",
    "    file.write(json.dumps(bm, ensure_ascii=False))\n",
    "\n",
    "with open('/home/link/spaces/chunking/LinhCSE_training/benchmark/corpus_shortgeneral.json', 'w', encoding='utf-8') as file:\n",
    "    file.write(json.dumps(corpus, ensure_ascii=False))"
   ]
  }
 ],
 "metadata": {
  "kernelspec": {
   "display_name": "conlearn",
   "language": "python",
   "name": "python3"
  },
  "language_info": {
   "codemirror_mode": {
    "name": "ipython",
    "version": 3
   },
   "file_extension": ".py",
   "mimetype": "text/x-python",
   "name": "python",
   "nbconvert_exporter": "python",
   "pygments_lexer": "ipython3",
   "version": "3.9.18"
  }
 },
 "nbformat": 4,
 "nbformat_minor": 2
}
