{
 "cells": [
  {
   "cell_type": "code",
   "execution_count": 1,
   "metadata": {},
   "outputs": [],
   "source": [
    "from __future__ import annotations\n",
    "\n",
    "from typing import Text\n",
    "\n",
    "import regex as re\n",
    "\n",
    "vowel = [\n",
    "    ['a', 'à', 'á', 'ả', 'ã', 'ạ', 'a'],\n",
    "    ['ă', 'ằ', 'ắ', 'ẳ', 'ẵ', 'ặ', 'aw'],\n",
    "    ['â', 'ầ', 'ấ', 'ẩ', 'ẫ', 'ậ', 'aa'],\n",
    "    ['e', 'è', 'é', 'ẻ', 'ẽ', 'ẹ', 'e'],\n",
    "    ['ê', 'ề', 'ế', 'ể', 'ễ', 'ệ', 'ee'],\n",
    "    ['i', 'ì', 'í', 'ỉ', 'ĩ', 'ị', 'i'],\n",
    "    ['o', 'ò', 'ó', 'ỏ', 'õ', 'ọ', 'o'],\n",
    "    ['ô', 'ồ', 'ố', 'ổ', 'ỗ', 'ộ', 'oo'],\n",
    "    ['ơ', 'ờ', 'ớ', 'ở', 'ỡ', 'ợ', 'ow'],\n",
    "    ['u', 'ù', 'ú', 'ủ', 'ũ', 'ụ', 'u'],\n",
    "    ['ư', 'ừ', 'ứ', 'ử', 'ữ', 'ự', 'uw'],\n",
    "    ['y', 'ỳ', 'ý', 'ỷ', 'ỹ', 'ỵ', 'y'],\n",
    "]\n",
    "\n",
    "vowel_to_idx = {}\n",
    "for i in range(len(vowel)):\n",
    "    for j in range(len(vowel[i]) - 1):\n",
    "        vowel_to_idx[vowel[i][j]] = (i, j)\n",
    "\n",
    "\n",
    "def is_valid_vietnam_word(word):\n",
    "    chars = list(word)\n",
    "    vowel_index = -1\n",
    "    for index, char in enumerate(chars):\n",
    "        x, _ = vowel_to_idx.get(char, (-1, -1))\n",
    "        if x != -1:\n",
    "            if vowel_index == -1:\n",
    "                vowel_index = index\n",
    "            else:\n",
    "                if index - vowel_index != 1:\n",
    "                    return False\n",
    "                vowel_index = index\n",
    "    return True\n",
    "\n",
    "def normalize_encode(text: str) -> str:\n",
    "    \"\"\"\n",
    "    normalize unicode encoding\n",
    "    params:\n",
    "        raw text\n",
    "    return:\n",
    "        normalization text\n",
    "    \"\"\"\n",
    "    dicchar = {}\n",
    "    char1252 = 'à|á|ả|ã|ạ|ầ|ấ|ẩ|ẫ|ậ|ằ|ắ|ẳ|ẵ|ặ|è|é|ẻ|ẽ|ẹ|ề|ế|ể|ễ|ệ|ì|í|ỉ|ĩ|ị|ò|ó|ỏ|õ|ọ|ồ|ố|ổ|ỗ|ộ|ờ|ớ|ở|ỡ|ợ|ù|ú|ủ|ũ|ụ|ừ|ứ|ử|ữ|ự|ỳ|ý|ỷ|ỹ|ỵ|À|Á|Ả|Ã|Ạ|Ầ|Ấ|Ẩ|Ẫ|Ậ|Ằ|Ắ|Ẳ|Ẵ|Ặ|È|É|Ẻ|Ẽ|Ẹ|Ề|Ế|Ể|Ễ|Ệ|Ì|Í|Ỉ|Ĩ|Ị|Ò|Ó|Ỏ|Õ|Ọ|Ồ|Ố|Ổ|Ỗ|Ộ|Ờ|Ớ|Ở|Ỡ|Ợ|Ù|Ú|Ủ|Ũ|Ụ|Ừ|Ứ|Ử|Ữ|Ự|Ỳ|Ý|Ỷ|Ỹ|Ỵ'.split(\n",
    "        '|',\n",
    "    )\n",
    "    charutf8 = 'à|á|ả|ã|ạ|ầ|ấ|ẩ|ẫ|ậ|ằ|ắ|ẳ|ẵ|ặ|è|é|ẻ|ẽ|ẹ|ề|ế|ể|ễ|ệ|ì|í|ỉ|ĩ|ị|ò|ó|ỏ|õ|ọ|ồ|ố|ổ|ỗ|ộ|ờ|ớ|ở|ỡ|ợ|ù|ú|ủ|ũ|ụ|ừ|ứ|ử|ữ|ự|ỳ|ý|ỷ|ỹ|ỵ|À|Á|Ả|Ã|Ạ|Ầ|Ấ|Ẩ|Ẫ|Ậ|Ằ|Ắ|Ẳ|Ẵ|Ặ|È|É|Ẻ|Ẽ|Ẹ|Ề|Ế|Ể|Ễ|Ệ|Ì|Í|Ỉ|Ĩ|Ị|Ò|Ó|Ỏ|Õ|Ọ|Ồ|Ố|Ổ|Ỗ|Ộ|Ờ|Ớ|Ở|Ỡ|Ợ|Ù|Ú|Ủ|Ũ|Ụ|Ừ|Ứ|Ử|Ữ|Ự|Ỳ|Ý|Ỷ|Ỹ|Ỵ'.split(\n",
    "        '|',\n",
    "    )\n",
    "    for i in range(len(char1252)):\n",
    "        dicchar[char1252[i]] = charutf8[i]\n",
    "\n",
    "    return re.sub(\n",
    "        r'à|á|ả|ã|ạ|ầ|ấ|ẩ|ẫ|ậ|ằ|ắ|ẳ|ẵ|ặ|è|é|ẻ|ẽ|ẹ|ề|ế|ể|ễ|ệ|ì|í|ỉ|ĩ|ị|ò|ó|ỏ|õ|ọ|ồ|ố|ổ|ỗ|ộ|ờ|ớ|ở|ỡ|ợ|ù|ú|ủ|ũ|ụ|ừ|ứ|ử|ữ|ự|ỳ|ý|ỷ|ỹ|ỵ|À|Á|Ả|Ã|Ạ|Ầ|Ấ|Ẩ|Ẫ|Ậ|Ằ|Ắ|Ẳ|Ẵ|Ặ|È|É|Ẻ|Ẽ|Ẹ|Ề|Ế|Ể|Ễ|Ệ|Ì|Í|Ỉ|Ĩ|Ị|Ò|Ó|Ỏ|Õ|Ọ|Ồ|Ố|Ổ|Ỗ|Ộ|Ờ|Ớ|Ở|Ỡ|Ợ|Ù|Ú|Ủ|Ũ|Ụ|Ừ|Ứ|Ử|Ữ|Ự|Ỳ|Ý|Ỷ|Ỹ|Ỵ',\n",
    "        lambda x: dicchar[x.group()],\n",
    "        text,\n",
    "    )\n",
    "\n",
    "\n",
    "def normalize_word_diacritic(word: str) -> str:\n",
    "    \"\"\"\n",
    "    diacritic: á, à, ạ, ả, ã\n",
    "    params:\n",
    "        raw word\n",
    "    return:\n",
    "        word normalize\n",
    "    \"\"\"\n",
    "    if not is_valid_vietnam_word(word):\n",
    "        return word\n",
    "\n",
    "    chars = list(word)\n",
    "    diacritic = 0\n",
    "    vowel_index = []\n",
    "    qu_or_gi = False\n",
    "    for index, char in enumerate(chars):\n",
    "        x, y = vowel_to_idx.get(char, (-1, -1))\n",
    "        if x == -1:\n",
    "            continue\n",
    "        elif x == 9:  # check qu\n",
    "            if index != 0 and chars[index - 1] == 'q':\n",
    "                chars[index] = 'u'\n",
    "                qu_or_gi = True\n",
    "        elif x == 5:  # check gi\n",
    "            if index != 0 and chars[index - 1] == 'g':\n",
    "                chars[index] = 'i'\n",
    "                qu_or_gi = True\n",
    "        if y != 0:\n",
    "            diacritic = y\n",
    "            chars[index] = vowel[x][0]\n",
    "        if not qu_or_gi or index != 1:\n",
    "            vowel_index.append(index)\n",
    "    if len(vowel_index) < 2:\n",
    "        if qu_or_gi:\n",
    "            if len(chars) == 2:\n",
    "                x, y = vowel_to_idx.get(chars[1])\n",
    "                chars[1] = vowel[x][diacritic]\n",
    "            else:\n",
    "                x, y = vowel_to_idx.get(chars[2], (-1, -1))\n",
    "                if x != -1:\n",
    "                    chars[2] = vowel[x][diacritic]\n",
    "                else:\n",
    "                    chars[1] = vowel[5][diacritic] if chars[1] == 'i' else vowel[9][diacritic]\n",
    "            return ''.join(chars)\n",
    "        return word\n",
    "\n",
    "    for index in vowel_index:\n",
    "        x, y = vowel_to_idx[chars[index]]\n",
    "        if x == 4 or x == 8:  # ê, ơ\n",
    "            chars[index] = vowel[x][diacritic]\n",
    "            # for index2 in vowel_index:\n",
    "            #     if index2 != index:\n",
    "            #         x, y = vowel_to_idx[chars[index]]\n",
    "            #         chars[index2] = vowel[x][0]\n",
    "            return ''.join(chars)\n",
    "\n",
    "    if len(vowel_index) == 2:\n",
    "        if vowel_index[-1] == len(chars) - 1:\n",
    "            x, y = vowel_to_idx[chars[vowel_index[0]]]\n",
    "            chars[vowel_index[0]] = vowel[x][diacritic]\n",
    "            # x, y = vowel_to_idx[chars[vowel_index[1]]]\n",
    "            # chars[vowel_index[1]] = vowel[x][0]\n",
    "        else:\n",
    "            # x, y = vowel_to_idx[chars[vowel_index[0]]]\n",
    "            # chars[vowel_index[0]] = vowel[x][0]\n",
    "            x, y = vowel_to_idx[chars[vowel_index[1]]]\n",
    "            chars[vowel_index[1]] = vowel[x][diacritic]\n",
    "    else:\n",
    "        # x, y = vowel_to_idx[chars[vowel_index[0]]]\n",
    "        # chars[vowel_index[0]] = vowel[x][0]\n",
    "        x, y = vowel_to_idx[chars[vowel_index[1]]]\n",
    "        chars[vowel_index[1]] = vowel[x][diacritic]\n",
    "        # x, y = vowel_to_idx[chars[vowel_index[2]]]\n",
    "        # chars[vowel_index[2]] = vowel[x][0]\n",
    "    return ''.join(chars)\n",
    "\n",
    "\n",
    "def normalize_diacritic(text: str) -> str:\n",
    "    \"\"\"\n",
    "    normalize diacritic\n",
    "    params:\n",
    "        crawl text\n",
    "    return:\n",
    "        text normalize\n",
    "    \"\"\"\n",
    "    sentence = text.lower()\n",
    "    sentence = text\n",
    "    words = sentence.split()\n",
    "    for index, word in enumerate(words):\n",
    "        cw = re.sub(\n",
    "            r'(^\\p{P}*)([p{L}.]*\\p{L}+)(\\p{P}*$)',\n",
    "            r'\\1/\\2/\\3', word,\n",
    "        ).split('/')\n",
    "        # print(cw)\n",
    "        if len(cw) == 3:\n",
    "            cw[1] = normalize_word_diacritic(cw[1])\n",
    "        words[index] = ''.join(cw)\n",
    "    return ' '.join(words)\n",
    "\n",
    "\n",
    "def remove_punctuation(text: str) -> str:\n",
    "    text = re.sub(\"[\\\"#$%&'()*+,-/:;<=>@[\\\\]^`{|}~]\", '', text)\n",
    "    return text\n",
    "\n",
    "\n",
    "def preprocessing(text: str) -> str:\n",
    "    # lowercase\n",
    "    text = text.lower()\n",
    "\n",
    "    # remove punctuation\n",
    "    text = remove_punctuation(text)\n",
    "\n",
    "    # remove duplicate space\n",
    "    text = re.sub(r'\\s+', ' ', text)\n",
    "\n",
    "    return text"
   ]
  },
  {
   "cell_type": "code",
   "execution_count": 2,
   "metadata": {},
   "outputs": [
    {
     "name": "stderr",
     "output_type": "stream",
     "text": [
      "/home/link/miniconda3/envs/conlearn/lib/python3.9/site-packages/tqdm/auto.py:21: TqdmWarning: IProgress not found. Please update jupyter and ipywidgets. See https://ipywidgets.readthedocs.io/en/stable/user_install.html\n",
      "  from .autonotebook import tqdm as notebook_tqdm\n"
     ]
    }
   ],
   "source": [
    "import json\n",
    "import re\n",
    "from datasets import load_dataset"
   ]
  },
  {
   "cell_type": "code",
   "execution_count": null,
   "metadata": {},
   "outputs": [],
   "source": [
    "dummy_data = load_dataset(\n",
    "    'json', data_files='/home/link/spaces/kd_semantic/data/train/data.jsonl')\n",
    "dummy_data['train'][0]"
   ]
  },
  {
   "cell_type": "code",
   "execution_count": 4,
   "metadata": {},
   "outputs": [
    {
     "data": {
      "text/plain": [
       "{'document_id': '01/2009/tt-bnn',\n",
       " 'sections': [{'section_index': 0,\n",
       "   'title': 'Điều 1. Phạm vi áp dụng',\n",
       "   'content': 'Điều 1. Phạm vi áp dụng. Thông tư này hướng dẫn tuần tra, canh gác bảo vệ đê Điều trong mùa lũ đối với các tuyến đê sông được phân loại, phân cấp theo quy định tại Điều 4 của Luật Đê Điều.',\n",
       "   'section_id': '8673efe1316b4e32b108f5e5de6d0b50'},\n",
       "  {'section_index': 1,\n",
       "   'title': 'Điều 2. Tổ chức lực lượng',\n",
       "   'content': 'Điều 2. Tổ chức lực lượng. 1. Hàng năm trước mùa mưa, lũ, Ủy ban nhân dân cấp xã nơi có đê phải tổ chức lực lượng lao động tại địa phương để tuần tra, canh gác đê và thường trực trên các điếm canh đê hoặc nhà dân khu vực gần đê (đối với những khu vực chưa có điếm canh đê), khi có báo động lũ từ cấp I trở lên đối với tuyến sông có đê (sau đây gọi tắt là lực lượng tuần tra, canh gác đê).. 2. Lực lượng tuần tra, canh gác đê được tổ chức thành các đội, do Ủy ban nhân dân cấp xã ra quyết định thành lập; từ 01 đến 02 kilômét đê thành lập 01 đội; mỗi đội có từ 12 đến 18 người, trong đó có 01 đội trưởng và 01 hoặc 02 đội phó. Danh sách thành viên đội tuần tra, canh gác đê được niêm yết tại điếm canh đê thuộc địa bàn được phân công.. 3. Khi lũ, bão có diễn biến phức tạp, kéo dài ngày, Uỷ ban nhân dân cấp xã có thể quyết định việc bổ sung thêm thành viên cho đội tuần tra, canh gác đê.',\n",
       "   'section_id': 'a4cf5e5e9bd1435bb809844147b749ae'},\n",
       "  {'section_index': 2,\n",
       "   'title': 'Điều 3. Tiêu chuẩn của các thành viên thuộc lực lượng tuần tra, canh gác đê',\n",
       "   'content': 'Điều 3. Tiêu chuẩn của các thành viên thuộc lực lượng tuần tra, canh gác đê. 1. Là người khoẻ mạnh, tháo vát, đủ khả năng đảm đương những công việc nặng nhọc, kể cả lúc mưa to, gió lớn, đêm tối.. 2. Có tinh thần trách nhiệm, chịu đựng gian khổ, khắc phục khó khăn, quen sông nước và biết bơi, có kiến thức, kinh nghiệm hộ đê, phòng, chống lụt, bão.',\n",
       "   'section_id': '6f201ffc46ed49b18bda04563d2a113c'},\n",
       "  {'section_index': 3,\n",
       "   'title': 'Điều 4. Nhiệm vụ của lực lượng tuần tra, canh gác đê',\n",
       "   'content': 'Điều 4. Nhiệm vụ của lực lượng tuần tra, canh gác đê. 1. Chấp hành sự phân công của Ban chỉ huy phòng, chống lụt, bão các cấp và chịu sự hướng dẫn về chuyên môn nghiệp vụ của cơ quan chuyên trách quản lý đê Điều.. 2. Tuần tra, canh gác và thường trực trên các điếm canh đê, khi có báo động lũ từ cấp I trở lên đối với tuyến sông có đê. Theo dõi diễn biến của đê Điều; phát hiện kịp thời những hư hỏng của đê Điều và báo cáo ngay cho Ban chỉ huy chống lụt bão xã, cán bộ chuyên trách quản lý đê Điều phụ trách tuyến đê đó và khẩn trương tiến hành xử lý giờ đầu theo đúng kỹ thuật đã được hướng dẫn.. 3. Tham gia xử lý sự cố và tu sửa kịp thời những hư hỏng của đê Điều, dưới sự hướng dẫn về kỹ thuật của cán bộ chuyên trách quản lý đê Điều hoặc ý kiến chỉ đạo của cấp trên.. 4. Canh gác, kiểm tra phát hiện và ngăn chặn kịp thời những hành vi vi phạm pháp Luật về đê Điều và phòng, chống lụt, bão và báo cáo ngay cán bộ chuyên trách quản lý đê Điều.. 5. Đeo phù hiệu khi làm nhiệm vụ.',\n",
       "   'section_id': 'c8d8335ded034106b5c547eeb11c6a0f'},\n",
       "  {'section_index': 4,\n",
       "   'title': 'Điều 5. Phù hiệu của lực lượng tuần tra, canh gác đê',\n",
       "   'content': 'Điều 5. Phù hiệu của lực lượng tuần tra, canh gác đê. Phù hiệu của lực lượng tuần tra, canh gác đê là một băng đỏ rộng 10cm, có ký hiệu “KTĐ” màu vàng.. Phù hiệu được đeo trên khuỷu tay áo bên trái, chữ “KTĐ” hướng ra phía ngoài.',\n",
       "   'section_id': '2d78db06e8354eed9f1c701c61f7b857'},\n",
       "  {'section_index': 5,\n",
       "   'title': 'Điều 6. Trang bị dụng cụ, sổ sách',\n",
       "   'content': 'Điều 6. Trang bị dụng cụ, sổ sách. 1. Lực lượng tuần tra, canh gác đê được trang bị:. - Dụng cụ thông tin, liên lạc, phương tiện phục vụ công tác tuần tra, canh gác đê; dụng cụ ứng cứu như đèn, đuốc, mai, cuốc, xẻng, đầm, vồ… và các dụng cụ cần thiết khác phù hợp với từng địa phương;. - Sổ sách để ghi chép tình hình diễn biến của đê, kè bảo vệ đê, cống qua đê, công trình quản lý khác; tiếp nhận chỉ thị, nhận xét của cấp trên, phân công, bố trí người tuần tra, canh gác hàng ngày.. 2. Số lượng dụng cụ, sổ sách tối thiểu được trang bị cho mỗi đội tuần tra, canh gác đê như sau:. a) Về dụng cụ:. - Áo phao:\\xa0\\xa0\\xa0\\xa0\\xa0\\xa0\\xa0\\xa0\\xa0\\xa0\\xa0\\xa0\\xa0\\xa0\\xa0\\xa0\\xa0\\xa0\\xa0\\xa0\\xa0\\xa0\\xa0\\xa0\\xa0\\xa0\\xa0\\xa0\\xa0\\xa0\\xa0\\xa0\\xa0\\xa0\\xa0\\xa0\\xa0\\xa0\\xa0\\xa0\\xa0\\xa0\\xa0\\xa0 06 cái;. - Áo đi mưa:\\xa0\\xa0\\xa0\\xa0\\xa0\\xa0\\xa0\\xa0\\xa0\\xa0\\xa0\\xa0\\xa0\\xa0\\xa0\\xa0\\xa0\\xa0\\xa0\\xa0\\xa0\\xa0\\xa0\\xa0\\xa0\\xa0\\xa0\\xa0\\xa0\\xa0\\xa0\\xa0\\xa0\\xa0\\xa0\\xa0\\xa0\\xa0\\xa0\\xa0\\xa0 18 cái;. - Xe cải tiến:\\xa0\\xa0\\xa0\\xa0\\xa0\\xa0\\xa0\\xa0\\xa0\\xa0\\xa0\\xa0\\xa0\\xa0\\xa0\\xa0\\xa0\\xa0\\xa0\\xa0\\xa0\\xa0\\xa0\\xa0\\xa0\\xa0\\xa0\\xa0\\xa0\\xa0\\xa0\\xa0\\xa0\\xa0\\xa0\\xa0\\xa0\\xa0\\xa0\\xa0\\xa0 02 chiếc;. - Quang gánh :\\xa0\\xa0\\xa0\\xa0\\xa0\\xa0\\xa0\\xa0\\xa0\\xa0\\xa0\\xa0\\xa0\\xa0\\xa0\\xa0\\xa0\\xa0\\xa0\\xa0\\xa0\\xa0\\xa0\\xa0\\xa0\\xa0\\xa0\\xa0\\xa0\\xa0\\xa0\\xa0\\xa0\\xa0\\xa0\\xa0\\xa0\\xa0 10 đôi;. - Xẻng:\\xa0\\xa0\\xa0\\xa0\\xa0\\xa0\\xa0\\xa0\\xa0\\xa0\\xa0\\xa0\\xa0\\xa0\\xa0\\xa0\\xa0\\xa0\\xa0\\xa0\\xa0\\xa0\\xa0\\xa0\\xa0\\xa0\\xa0\\xa0\\xa0\\xa0\\xa0\\xa0\\xa0\\xa0\\xa0\\xa0\\xa0\\xa0\\xa0\\xa0\\xa0\\xa0\\xa0\\xa0\\xa0\\xa0\\xa0\\xa0\\xa0 06 cái;. - Cuốc:\\xa0\\xa0\\xa0\\xa0\\xa0\\xa0\\xa0\\xa0\\xa0\\xa0\\xa0\\xa0\\xa0\\xa0\\xa0\\xa0\\xa0\\xa0\\xa0\\xa0\\xa0\\xa0\\xa0\\xa0\\xa0\\xa0\\xa0\\xa0\\xa0\\xa0\\xa0\\xa0\\xa0\\xa0\\xa0\\xa0\\xa0\\xa0\\xa0\\xa0\\xa0\\xa0\\xa0\\xa0\\xa0\\xa0\\xa0\\xa0\\xa0 06 cái;. - Mai đào đất:\\xa0\\xa0\\xa0\\xa0\\xa0\\xa0\\xa0\\xa0\\xa0\\xa0\\xa0\\xa0\\xa0\\xa0\\xa0\\xa0\\xa0\\xa0\\xa0\\xa0\\xa0\\xa0\\xa0\\xa0\\xa0\\xa0\\xa0\\xa0\\xa0\\xa0\\xa0\\xa0\\xa0\\xa0\\xa0\\xa0\\xa0\\xa0\\xa0 02 cái;. - Xè beng:\\xa0\\xa0\\xa0\\xa0\\xa0\\xa0\\xa0\\xa0\\xa0\\xa0\\xa0\\xa0\\xa0\\xa0\\xa0\\xa0\\xa0\\xa0\\xa0\\xa0\\xa0\\xa0\\xa0\\xa0\\xa0\\xa0\\xa0\\xa0\\xa0\\xa0\\xa0\\xa0\\xa0\\xa0\\xa0\\xa0\\xa0\\xa0\\xa0\\xa0\\xa0\\xa0\\xa0\\xa0\\xa0 01 cái;. - Dao:\\xa0\\xa0\\xa0\\xa0\\xa0\\xa0\\xa0\\xa0\\xa0\\xa0\\xa0\\xa0\\xa0\\xa0\\xa0\\xa0\\xa0\\xa0\\xa0\\xa0\\xa0\\xa0\\xa0\\xa0\\xa0\\xa0\\xa0\\xa0\\xa0\\xa0\\xa0\\xa0\\xa0\\xa0\\xa0\\xa0\\xa0\\xa0\\xa0\\xa0\\xa0\\xa0\\xa0\\xa0\\xa0\\xa0\\xa0\\xa0\\xa0\\xa0 10 con;. - Vồ:\\xa0\\xa0\\xa0\\xa0\\xa0\\xa0\\xa0\\xa0\\xa0\\xa0\\xa0\\xa0\\xa0\\xa0\\xa0\\xa0\\xa0\\xa0\\xa0\\xa0\\xa0\\xa0\\xa0\\xa0\\xa0\\xa0\\xa0\\xa0\\xa0\\xa0\\xa0\\xa0\\xa0\\xa0\\xa0\\xa0\\xa0\\xa0\\xa0\\xa0\\xa0\\xa0\\xa0\\xa0\\xa0\\xa0\\xa0\\xa0\\xa0\\xa0\\xa0\\xa0 05 cái;. - Đèn bão:\\xa0\\xa0\\xa0\\xa0\\xa0\\xa0\\xa0\\xa0\\xa0\\xa0\\xa0\\xa0\\xa0\\xa0\\xa0\\xa0\\xa0\\xa0\\xa0\\xa0\\xa0\\xa0\\xa0\\xa0\\xa0\\xa0\\xa0\\xa0\\xa0\\xa0\\xa0\\xa0\\xa0\\xa0\\xa0\\xa0\\xa0\\xa0\\xa0\\xa0\\xa0\\xa0\\xa0\\xa0 05 cái;. - Đèn ắc quy hoặc đèn pin:\\xa0\\xa0\\xa0\\xa0\\xa0\\xa0\\xa0\\xa0\\xa0\\xa0\\xa0\\xa0\\xa0\\xa0\\xa0\\xa0\\xa0\\xa0\\xa0\\xa0 05 cái;. - Trống hoặc kẻng:\\xa0\\xa0\\xa0\\xa0\\xa0\\xa0\\xa0\\xa0\\xa0\\xa0\\xa0\\xa0\\xa0\\xa0\\xa0\\xa0\\xa0\\xa0\\xa0\\xa0\\xa0\\xa0\\xa0\\xa0\\xa0\\xa0\\xa0\\xa0\\xa0\\xa0\\xa0\\xa0 01 cái;. - Biển tín hiệu báo động lũ:\\xa0\\xa0\\xa0\\xa0\\xa0\\xa0\\xa0\\xa0\\xa0\\xa0\\xa0\\xa0\\xa0\\xa0\\xa0\\xa0\\xa0\\xa0\\xa0\\xa0 01 bộ;. - Đèn tín hiệu báo động lũ:\\xa0\\xa0\\xa0\\xa0\\xa0\\xa0\\xa0\\xa0\\xa0\\xa0\\xa0\\xa0\\xa0\\xa0\\xa0\\xa0\\xa0\\xa0\\xa0\\xa0\\xa0 01 bộ;. - Tiêu, bảng báo hiệu hư hỏng: \\xa0\\xa0\\xa0\\xa0\\xa0\\xa0\\xa0\\xa0\\xa0\\xa0\\xa0\\xa0\\xa0\\xa0 20 cái;. - Dầu hỏa:\\xa0\\xa0\\xa0\\xa0\\xa0\\xa0\\xa0\\xa0\\xa0\\xa0\\xa0\\xa0\\xa0\\xa0\\xa0\\xa0\\xa0\\xa0\\xa0\\xa0\\xa0\\xa0\\xa0\\xa0\\xa0\\xa0\\xa0\\xa0\\xa0\\xa0\\xa0\\xa0 \\xa0\\xa0\\xa0\\xa0\\xa0\\xa0\\xa0\\xa0\\xa0\\xa0\\xa0 10 lít.. b) Về sổ sách:. - Sổ ghi danh sách, phân công người tuần tra canh gác theo từng ca, kíp trong ngày; ghi chỉ thị, ý kiến của cấp trên và những nội dung đã báo cáo với cấp trên trong ngày.. - Sổ nhật ký ghi chép diễn biến của đê, kè bảo vệ đê, cống qua đê và công trình quản lý khác;. Những sổ sách trên phải giữ gìn cẩn thận, ghi chép rõ ràng và thường xuyên để ở trụ sở của đội (điếm canh đê hoặc nhà dân khu vực gần đê - đối với những khu vực chưa có điếm canh đê); nếu không có lệnh của đội trưởng thì không được mang sổ sách đi nơi khác.. c) Dụng cụ, sổ sách trên được để tại trụ sở của đội và được bàn giao giữa các kíp trực.. 3. Kinh phí mua sắm dụng cụ, sổ sách quy định tại khoản 2 của Điều này lấy trong quỹ phòng, chống lụt, bão hoặc ngân sách hàng năm của địa phương.. 4. Ủy ban nhân dân cấp huyện có đê, trước mùa lũ chịu trách nhiệm mua sắm dụng cụ, sổ sách quy định tại khoản 2 Điều này để cấp cho các đội tuần tra, canh gác đê.. 5. Sau mùa lũ, đội trưởng các đội tuần tra, canh gác đê có trách nhiệm tổng hợp, thống kê và trao trả số dụng cụ quy định tại điểm a khoản 2 Điều này để bảo quản theo hướng dẫn của Ủy ban nhân dân cấp huyện.. 6. Các loại sổ sách quy định tại điểm b khoản 2 Điều này, đội trưởng đội tuần tra, canh gác đê có trách nhiệm bàn giao cho đội chuyên trách quản lý đê Điều để xử lý và bảo quản.. 7. Việc giao nhận các dụng cụ và sổ sách trên đây phải được lập biên bản để quản lý, theo dõi.',\n",
       "   'section_id': '04e930d39bf74db28263179d6cd299b7'},\n",
       "  {'section_index': 6,\n",
       "   'title': 'Điều 7. Tín hiệu, cấp báo động lũ',\n",
       "   'content': 'Điều 7. Tín hiệu, cấp báo động lũ. 1. Khi báo động lũ ở cấp I trở lên, đội tuần tra, canh gác đê phải báo tín hiệu cấp báo động lũ tại các điếm canh đê, như sau:. a) - Báo động lũ ở cấp I: 01 đèn màu xanh (ban ngày có thể bổ sung 01 biển hoặc cờ, hình tam giác màu đỏ để dễ nhận biết);. - Báo động lũ ở cấp II:\\xa0\\xa0\\xa0 02 đèn màu xanh (ban ngày có thể bổ sung 02 biển hoặc cờ, hình tam giác màu đỏ để dễ nhận biết);. - Báo động lũ ở cấp III: 03 đèn màu xanh (ban ngày có thể bổ sung 03 biển hoặc cờ, hình tam giác màu đỏ để dễ nhận biết).. b) Các biển (hoặc cờ), đèn báo hiệu được treo theo chiều dọc, với chiều cao thích hợp để mọi người trong khu vực nhìn thấy được.. 2. Trường hợp khẩn cấp xảy ra sự cố nguy hiểm đe dọa đến an toàn của đê Điều, cần phải huy động lực lượng ứng cứu thì đội trưởng hoặc đội phó của đội tuần tra, canh gác đê cho đánh trống (hoặc kẻng) liên hồi để báo động.',\n",
       "   'section_id': '5342768b457542e5bf12b26344c85913'},\n",
       "  {'section_index': 7,\n",
       "   'title': 'Điều 8. Quy định chế độ tuần tra, canh gác bảo vệ đê Điều',\n",
       "   'content': 'Điều 8. Quy định chế độ tuần tra, canh gác bảo vệ đê Điều. 1. Báo động lũ ở cấp I:. Bố trí ngày 02 người, đêm 04 người. Ban ngày ít nhất sau 04 giờ có 01 kíp đi tuần, mỗi kíp có 01 người. Ban đêm ít nhất sau 04 giờ có 01 kíp đi tuần, mỗi kíp 02 người.. 2. Báo động lũ ở cấp II:. a) Bố trí ngày 04 người, đêm 06 người. Ban ngày ít nhất sau 02 giờ có 01 kíp đi tuần, mỗi kíp 02 người. Ban đêm ít nhất sau 02 giờ có 01 kíp đi tuần, mỗi kíp 03 người;. b) Trường hợp có tin bão khẩn cấp đổ bộ vào khu vực: bố trí ngày 06 người, đêm 12 người, chia thành các kíp, mỗi kíp 03 người; tùy theo diễn biến của bão, lũ và đặc điểm của tuyến đê, Ban chỉ huy phòng, chống lụt, bão cấp xã quyết định việc tăng cường số lần kiểm tra so với quy định tại điểm a khoản 2 Điều này.. 3. Báo động lũ ở cấp III trở lên:. a) Bố trí ngày 06 người, đêm 12 người, chia thành các kíp, mỗi kíp 03 người, không phân biệt ngày đêm các kíp phải liên tục thay phiên nhau kiểm tra;. b) Đối với các vị trí xung yếu của đê, kè bảo vệ đê, cống qua đê, bố trí thêm lực lượng để kiểm tra, phát hiện sự cố và báo cáo kịp thời.',\n",
       "   'section_id': '9b3044f7913d4318943b4dc1609b2e2f'},\n",
       "  {'section_index': 8,\n",
       "   'title': 'Điều 9. Nội dung tuần tra, canh gác đê',\n",
       "   'content': 'Điều 9. Nội dung tuần tra, canh gác đê. 1. Phạm vi tuần tra:. a) Báo động lũ ở cấp I, bố trí người tuần tra như sau:. - Lượt đi: 01 người (ban ngày), 02 người (ban đêm) kiểm tra mặt đê, mái đê phía sông, khu vực hành lang bảo vệ đê phía sông;. - Lượt về: 01 người (ban ngày), 02 người (ban đêm) kiểm tra mái đê phía đồng, khu vực hành lang bảo vệ đê phía đồng, mặt ruộng, hồ ao gần chân đê phía đồng;. b) Báo động lũ ở cấp II, bố trí người tuần tra như sau:. - Lượt đi: 01 người kiểm tra mặt đê, mái đê phía sông, khu vực hành lang bảo vệ đê phía sông; 01 người (ban ngày), 02 người (ban đêm) kiểm tra mái đê phía đồng, khu vực hành lang bảo vệ đê phía đồng, mặt ruộng, hồ ao gần chân đê phía đồng;. - Lượt về: 01 người (ban ngày), 02 người (ban đêm) kiểm tra mặt đê, mái đê phía sông, khu vực hành lang bảo vệ đê phía sông; 01 người kiểm tra mái đê phía đồng, khu vực hành lang bảo vệ đê phía đồng, mặt ruộng, hồ ao gần chân đê phía đồng;. c) Báo động lũ ở cấp II và có tin bão khẩn cấp đổ bộ vào khu vực hoặc báo động lũ ở cấp III trở lên, bố trí người tuần tra như sau:. - Lượt đi: 02 người kiểm tra mái đê, khu vực hành lang bảo vệ đê phía đồng, mặt ruộng, hồ ao gần chân đê phía đồng; 01 người kiểm tra mặt đê.. - Lượt về: 02 người kiểm tra phía đồng; 01 người kiểm tra mặt đê, mái đê và khu vực hành lang bảo vệ đê phía sông.. d) Mỗi kíp tuần tra phải kiểm tra vượt quá phạm vi phụ trách về hai phía, mỗi phía 50m. Đối với những khu vực đã từng xảy ra sự cố hư hỏng, phải kiểm tra quan sát rộng hơn để phát hiện sự cố.. 2. Người tuần tra, canh gác phải phát hiện kịp thời những hư hỏng của đê.. 3. Khi phát hiện có hư hỏng, người tuần tra phải tiến hành các công việc sau:. a) Xác định loại hư hỏng, vị trí, đặc điểm, kích thước của loại hư hỏng;. b) Xác định mực nước sông so với mặt đê tại vị trí phát sinh hư hỏng;. c) Đánh dấu bằng cách ghi bảng, cắm tiêu báo hiệu vị trí hư hỏng; nếu sự cố nghiêm trọng, phải cấm người, vật, xe cơ giới đi qua và bố trí người canh gác tại chỗ để theo dõi thường xuyên diễn biến của hư hỏng;. d) Báo cáo kịp thời và cụ thể tình hình hư hỏng cho đội trưởng hoặc đội phó, cán bộ chuyên trách quản lý đê Điều và Ban Chỉ huy phòng, chống lụt, bão xã.',\n",
       "   'section_id': 'c049ec3d806b4b77808c6a389d4a184c'},\n",
       "  {'section_index': 9,\n",
       "   'title': 'Điều 10. Nội dung tuần tra canh gác cống qua đê',\n",
       "   'content': 'Điều 10. Nội dung tuần tra canh gác cống qua đê. 1. Khi lũ ở báo động I trở lên, đội tuần tra, canh gác đê phải phân công người theo dõi chặt chẽ diễn biến của các cống qua đê, ngăn chặn kịp thời những hành vi sử dụng cống trái phép trong mùa lũ.. 2. Người tuần tra, canh gác phải kiểm tra kỹ phần tiếp giáp giữa thân cống, tường cánh gà của cống với đê; cánh cống, bộ phận đóng mở cánh cống, cửa cống, thân cống và khu vực thượng, hạ lưu cống để phát hiện kịp thời những sự cố xảy ra.. 3. Khi phát hiện có hư hỏng của cống, người tuần tra, canh gác phải tiến hành các công việc như đối với quy định tại khoản 3 Điều 9 của Thông tư này.',\n",
       "   'section_id': '0d8a4af52ce84b219bf92560865e97c1'},\n",
       "  {'section_index': 10,\n",
       "   'title': 'Điều 11. Nội dung tuần tra canh gác kè bảo vệ đê',\n",
       "   'content': 'Điều 11. Nội dung tuần tra canh gác kè bảo vệ đê. 1. Khi mái kè chưa bị ngập nước:. a) Kiểm tra mái kè; quan sát dòng chảy khu vực kè.. b) Nếu phát hiện thấy hư hỏng phải:. - Xác định vị trí, loại hư hỏng, đặc điểm và kích thước hư hỏng, mực nước sông so với đỉnh kè;. - Đánh dấu bằng cách ghi bảng, cắm tiêu, bảng báo hiệu vị trí hư hỏng; thường xuyên theo dõi diễn biến của hư hỏng;. - Báo cáo kịp thời và cụ thể tình hình hư hỏng cho đội trưởng, đội phó, cán bộ chuyên trách quản lý đê Điều và Ban Chỉ huy phòng, chống lụt, bão xã.. 2. Khi kè bị ngập nước:. a) Tại những kè xung yếu, khi nước chưa ngập đỉnh kè, đội tuần tra, canh gác đê có nhiệm vụ cắm các hàng tiêu để quan sát sự xói lở của kè; các hàng tiêu có thể được cắm như sau:. - Cắm tiêu dọc theo kè cách đỉnh kè 01 mét và vượt quá đầu và đuôi kè từ 20 mét đến 30 mét. Những vị trí xung yếu của kè cắm ít nhất từ 02 hàng tiêu trở lên. Khoảng cách giữa các tiêu từ 03 mét đến 04 mét, hàng nọ cách hàng kia từ 02 mét đến 2,5 mét. Tiêu cắm so le nhau;. - Tiêu có thể được làm bằng tre, nứa hoặc gỗ …; dài từ 04 mét đến 05 mét; cắm sâu xuống đất và được đánh số thứ tự đầu đến đuôi kè.. b) Theo dõi chặt chẽ các hàng tiêu đã cắm, khi phát hiện tiêu bị đổ phải kiểm tra và báo cáo ngay với đội trưởng, đội phó, cán bộ chuyên trách quản lý đê Điều và Ban Chỉ huy phòng, chống lụt, bão xã.. 3. Khi lũ rút: Khi nước đã rút khỏi bãi và mái kè, người tuần tra phải xem xét tỷ mỉ từng bộ phận của kè, phát hiện hư hỏng xảy ra.. 4. Sau mỗi đợt lũ các đội trưởng phải tập hợp tình hình diễn biến và hư hỏng của kè, báo cáo cán bộ chuyên trách quản lý đê Điều và Ban Chỉ huy phòng, chống lụt, bão xã.',\n",
       "   'section_id': '29a4caf5258942c6ab764cedabc18c5c'},\n",
       "  {'section_index': 11,\n",
       "   'title': 'Điều 12. Chế độ báo cáo',\n",
       "   'content': 'Điều 12. Chế độ báo cáo. 1. Người tuần tra, canh gác đê trong khi làm nhiệm vụ phát hiện thấy \\xa0có hư hỏng của đê Điều phải tìm mọi cách nhanh chóng báo cáo cán bộ chuyên trách quản lý đê Điều và Ban Chỉ huy phòng, chống lụt, bão xã để tiến hành xử lý kịp thời.. 2. Nội dung báo cáo:. - Thời gian phát hiện hư hỏng;. - Vị trí, đặc điểm, kích thước, diễn biến của hư hỏng và mức độ nguy hiểm;. - Đề xuất biện pháp xử lý.. 3. Trường hợp xét thấy hư hỏng có khả năng diễn biến xấu, đội trưởng phải cử người tăng cường, theo dõi tại chỗ và cứ 30 phút phải báo cáo một lần.. Trường hợp hư hỏng có nguy cơ đe dọa an toàn của công trình, phải tiến hành xử lý gấp nhằm ngăn chặn và hạn chế hư hỏng phát triển thêm đồng thời phát tín hiệu báo động theo quy định khoản 2 Điều 7 của Thông tư này. Trong khi chờ lực lượng ứng cứu, những người được phân công theo dõi tuyệt đối không được rời vị trí được giao.. 4. Khi có sự cố xảy ra, ngoài việc theo dõi và tham gia xử lý, các đội tuần tra, canh gác đê vẫn phải bảo đảm chế độ tuần tra, canh gác đối với toàn bộ đoạn đê được phân công phụ trách.',\n",
       "   'section_id': '7379a6d63f3942ccafce9417aec4d7bb'},\n",
       "  {'section_index': 12,\n",
       "   'title': 'Điều 13. Quy định về bàn giao giữa các kíp trực',\n",
       "   'content': 'Điều 13. Quy định về bàn giao giữa các kíp trực. Sau mỗi đợt kiểm tra, các kíp tuần tra, canh gác đê phải ghi chép đầy đủ tình hình diễn biến và hư hỏng đê Điều vào sổ nhật ký tuần tra, canh gác theo mẫu quy định và bàn giao đầy đủ cho kíp sau. Người thay mặt kíp giao và nhận phải ký và ghi rõ họ tên, ngày giờ vào sổ. Sau mỗi ngày đội trưởng và cán bộ chuyên trách quản lý đê Điều ký xác nhận tình hình trong ngày để theo dõi và làm cơ sở cho việc chi trả thù lao theo quy định.',\n",
       "   'section_id': '7df06eeba2994242988728ad911ffb08'},\n",
       "  {'section_index': 13,\n",
       "   'title': 'Điều 14. Chế độ, chính sách đối với lực lượng tuần tra, canh gác đê',\n",
       "   'content': 'Điều 14. Chế độ, chính sách đối với lực lượng tuần tra, canh gác đê. 1. Người tuần tra, canh gác đê được hưởng thù lao, mức thù lao cho lực lượng này do Ủy ban nhân dân cấp tỉnh quy định, theo hướng dẫn của Bộ Tài chính và Bộ Nông nghiệp và Phát triển nông thôn.. 2. Trước mùa lũ hàng năm các thành viên đội tuần tra, canh gác đê được tập trung huấn luyện, hướng dẫn nghiệp vụ tuần tra canh gác, hộ đê, phòng, chống, lụt, bão. Những ngày dự huấn luyện được coi như trực tiếp làm nhiệm vụ và được hưởng mức thù lao theo quy định ở khoản 1 Điều này.. 3. Người bị thương, người bị thiệt hại tính mạng trong khi làm nhiệm vụ được xét hưởng chế độ, chính sách như đối với lực lượng vũ trang tham gia hộ đê theo quy định của pháp Luật.',\n",
       "   'section_id': '9137c8b7279c43f19a76eaa6f24e3ea4'},\n",
       "  {'section_index': 14,\n",
       "   'title': 'Điều 15. Khen thưởng, kỷ Luật',\n",
       "   'content': 'Điều 15. Khen thưởng, kỷ Luật. 1. Những đơn vị và cá nhân thực hiện tốt quy định tại Thông tư \\xa0này và có thành tích xuất sắc trong công tác tuần tra, canh gác đê sẽ được khen thưởng.. 2. Những đơn vị và cá nhân vi phạm quy định tại Thông tư này tuỳ theo lỗi nặng nhẹ sẽ bị thi hành kỷ Luật từ cảnh cáo đến truy tố trước pháp Luật của Nhà nước.',\n",
       "   'section_id': 'bdda78f5cb574f5d9722fbaf02213bbf'},\n",
       "  {'section_index': 15,\n",
       "   'title': 'Điều 16. Trách nhiệm của Uỷ ban nhân dân cấp huyện, cấp xã nơi có đê',\n",
       "   'content': 'Điều 16. Trách nhiệm của Uỷ ban nhân dân cấp huyện, cấp xã nơi có đê. 1. Trách nhiệm của Uỷ ban nhân dân cấp huyện nơi có đê:. a) Hướng dẫn các xã có đê tổ chức lực lượng tuần tra, canh gác đê; hướng dẫn hoạt động và kiểm tra, đôn đốc công tác tuần tra, canh gác.. b) Chủ trì, tổ chức chỉ đạo các đơn vị, phối hợp với cơ quan chuyên trách quản lý đê Điều huấn luyện nghiệp vụ tuần tra, canh gác, hộ đê, phòng, chống lụt, bão cho lực lượng tuần tra, canh gác đê.. c) Trang bị và hướng dẫn việc quản lý sử dụng các dụng cụ, sổ sách cho các đội tuần tra, canh gác đê theo quy định tại khoản 2 Điều 6 của Thông tư này.. 2. Trách nhiệm của Uỷ ban nhân dân cấp xã nơi có đê. a) Tổ chức lực lượng tuần tra, canh gác đê trong mùa lũ ở các tuyến đê thuộc địa bàn.. b) Trực tiếp quản lý và chỉ đạo lực lượng tuần tra, canh gác đê theo các quy định tại Thông tư này.',\n",
       "   'section_id': 'd7a4a399b8524c73bff138d6d757626d'},\n",
       "  {'section_index': 16,\n",
       "   'title': 'Điều 17. Trách nhiệm của Sở Nông nghiệp và Phát triển nông thôn',\n",
       "   'content': 'Điều 17. Trách nhiệm của Sở Nông nghiệp và Phát triển nông thôn. 1. Tham mưu cho Ủy ban nhân dân cấp tỉnh, phối hợp với các đơn vị xây dựng và trình duyệt mức thù lao và các chế độ chính sách đối với lực lượng tuần tra, canh gác đê.. 2. Phối hợp với Uỷ ban nhân dân cấp huyện, cấp xã để tổ chức, hướng dẫn hoạt động của lực lượng tuần tra, canh gác đê; chỉ đạo lực lượng chuyên trách quản lý đê Điều trực tiếp hướng dẫn chuyên môn, nghiệp vụ cho lực lượng này trước và trong mùa lũ.. 3. Khi có báo động lũ từ cấp I trở lên, Sở Nông nghiệp và Phát triển nông thôn phải chỉ đạo, tổ chức kiểm tra, đôn đốc công tác tuần tra, canh gác ở các tuyến đê.',\n",
       "   'section_id': '1ab8924ecb1840a29e8395ca24c76cde'}]}"
      ]
     },
     "execution_count": 4,
     "metadata": {},
     "output_type": "execute_result"
    }
   ],
   "source": [
    "with open('/home/link/spaces/chunking/LinhCSE/data/database/corpus.json') as f:\n",
    "    corpus = json.load(f)\n",
    "corpus[0]"
   ]
  },
  {
   "cell_type": "code",
   "execution_count": 5,
   "metadata": {},
   "outputs": [],
   "source": [
    "from pyvi import ViTokenizer\n",
    "from tqdm import tqdm"
   ]
  },
  {
   "cell_type": "code",
   "execution_count": 6,
   "metadata": {},
   "outputs": [
    {
     "name": "stderr",
     "output_type": "stream",
     "text": [
      "100%|██████████| 3271/3271 [04:00<00:00, 13.59it/s]\n"
     ]
    },
    {
     "data": {
      "text/plain": [
       "61425"
      ]
     },
     "execution_count": 6,
     "metadata": {},
     "output_type": "execute_result"
    }
   ],
   "source": [
    "article_texts = []\n",
    "for item in tqdm(corpus):\n",
    "    for article in item['sections']:\n",
    "        text = ViTokenizer.tokenize(article['content'])\n",
    "        text = normalize_encode(normalize_word_diacritic(text))\n",
    "        text = text.lower()\n",
    "        # text = remove_punctuation(text)\n",
    "        article_texts.append(text)\n",
    "len(article_texts)"
   ]
  },
  {
   "cell_type": "code",
   "execution_count": 7,
   "metadata": {},
   "outputs": [],
   "source": [
    "article_texts = [item.replace(\"  \", \" \") for item in article_texts]\n",
    "article_texts = [item.replace(\" . \", \". \") for item in article_texts]\n",
    "article_texts = [item.replace(\" , \", \", \") for item in article_texts]\n",
    "article_texts = [item.replace(\".. \", \". \") for item in article_texts]\n",
    "article_texts = [item.replace(\"“ \", \"\\\"\") for item in article_texts]\n",
    "article_texts = [item.replace(\"” \", \"\\\"\") for item in article_texts]\n",
    "article_texts = [item.replace(\"-\", \"\") for item in article_texts]\n",
    "article_texts = [item.replace(\":\", \"\") for item in article_texts]\n",
    "article_texts = [item.replace(\" )\", \")\") for item in article_texts]\n",
    "article_texts = [item.replace(\"( \", \"(\") for item in article_texts]\n",
    "article_texts = [item.replace(\";.\", \".\") for item in article_texts]\n",
    "article_texts = [item.replace(\"  \", \" \") for item in article_texts]\n",
    "article_texts = [item.replace(\" .\", \".\") for item in article_texts]\n",
    "article_texts = [item.replace(\"..\", \".\") for item in article_texts]\n",
    "article_texts = [item.strip() for item in article_texts]"
   ]
  },
  {
   "cell_type": "code",
   "execution_count": 8,
   "metadata": {},
   "outputs": [
    {
     "data": {
      "text/plain": [
       "['điều 6. trang_bị dụng_cụ, sổ_sách. 1. lực_lượng tuần_tra, canh_gác đê được trang_bị. dụng_cụ thông_tin, liên_lạc, phương_tiện phục_vụ công_tác tuần_tra, canh_gác đê ; dụng_cụ ứng_cứu như đèn, đuốc, mai, cuốc, xẻng, đầm, vồ … và các dụng_cụ cần_thiết khác phù_hợp với từng địa_phương. sổ_sách để ghi_chép tình_hình diễn_biến của đê, kè bảo_vệ đê, cống qua đê, công_trình quản_lý khác ; tiếp_nhận chỉ_thị, nhận_xét của cấp trên, phân_công, bố_trí người tuần_tra, canh_gác hàng ngày. 2. số_lượng dụng_cụ, sổ_sách tối_thiểu được trang_bị cho mỗi đội tuần_tra, canh_gác đê như sau. a) về dụng_cụ. áo_phao 06 cái. áo đi mưa 18 cái. xe cải_tiến 02 chiếc. quang_gánh 10 đôi. xẻng 06 cái. cuốc 06 cái. mai đào đất 02 cái. xè beng 01 cái. dao 10 con. vồ 05 cái. đèn_bão 05 cái. đèn ắc_quy hoặc đèn_pin 05 cái. trống hoặc kẻng 01 cái. biển tín_hiệu báo_động lũ 01 bộ. đèn tín_hiệu báo_động lũ 01 bộ. tiêu, bảng báo_hiệu hư_hỏng 20 cái. dầu_hỏa 10 lít. b) về sổ_sách. sổ ghi_danh_sách, phân_công người tuần_tra canh_gác theo từng ca, kíp trong ngày ; ghi chỉ_thị, ý_kiến của cấp trên và những nội_dung đã báo_cáo với cấp trên trong ngày. sổ nhật_ký ghi_chép diễn_biến của đê, kè bảo_vệ đê, cống qua đê và công_trình quản_lý khác. những sổ_sách trên phải giữ_gìn cẩn_thận, ghi_chép rõ_ràng và thường_xuyên để ở trụ_sở của đội (điếm_canh đê hoặc nhà dân khu_vực gần đê đối_với những khu_vực chưa có điếm_canh đê) ; nếu không có lệnh của đội_trưởng thì không được mang sổ_sách đi nơi khác. c) dụng_cụ, sổ_sách trên được để tại trụ_sở của đội và được bàn_giao giữa các kíp trực. 3. kinh_phí mua_sắm dụng_cụ, sổ_sách quy_định tại khoản 2 của điều này lấy trong quỹ phòng, chống lụt, bão hoặc ngân_sách hàng năm của địa_phương. 4. ủy_ban nhân_dân cấp huyện có đê, trước mùa lũ chịu trách_nhiệm mua_sắm dụng_cụ, sổ_sách quy_định tại khoản 2 điều này để cấp cho các đội tuần_tra, canh_gác đê. 5. sau mùa lũ, đội_trưởng các đội tuần_tra, canh_gác đê có trách_nhiệm tổng_hợp, thống_kê và trao_trả số dụng_cụ quy_định tại điểm a khoản 2 điều này để bảo_quản theo hướng_dẫn của ủy_ban nhân_dân cấp huyện. 6. các loại sổ_sách quy_định tại điểm b khoản 2 điều này, đội_trưởng đội tuần_tra, canh_gác đê có trách_nhiệm bàn_giao cho đội chuyên_trách quản_lý đê điều để xử_lý và bảo_quản. 7. việc giao_nhận các dụng_cụ và sổ_sách trên đây phải được lập biên_bản để quản_lý, theo_dõi.',\n",
       " 'điều 7. tín_hiệu, cấp báo_động lũ. 1. khi báo_động lũ ở cấp i trở lên, đội tuần_tra, canh_gác đê phải báo tín_hiệu cấp báo_động lũ tại các điếm_canh đê, như sau. a) báo_động lũ ở cấp i 01 đèn màu xanh (ban_ngày có_thể bổ_sung 01 biển hoặc cờ, hình tam_giác màu đỏ để dễ nhận_biết). báo_động lũ ở cấp ii 02 đèn màu xanh (ban_ngày có_thể bổ_sung 02 biển hoặc cờ, hình tam_giác màu đỏ để dễ nhận_biết). báo_động lũ ở cấp iii 03 đèn màu xanh (ban_ngày có_thể bổ_sung 03 biển hoặc cờ, hình tam_giác màu đỏ để dễ nhận_biết). b) các biển (hoặc cờ), đèn báo_hiệu được treo theo chiều dọc, với chiều cao thích_hợp để mọi người trong khu_vực nhìn thấy được. 2. trường_hợp khẩn_cấp xảy ra sự_cố nguy_hiểm đe_dọa đến an_toàn của đê điều, cần phải huy_động lực_lượng ứng_cứu thì đội_trưởng hoặc đội phó của đội tuần_tra, canh_gác đê cho đánh trống (hoặc kẻng) liên_hồi để báo_động.',\n",
       " 'điều 8. quy_định_chế_độ tuần_tra, canh_gác bảo_vệ đê điều. 1. báo_động lũ ở cấp i. bố_trí ngày 02 người, đêm 04 người. ban_ngày ít_nhất sau 04 giờ có 01 kíp đi tuần, mỗi kíp có 01 người. ban_đêm ít_nhất sau 04 giờ có 01 kíp đi tuần, mỗi kíp 02 người. 2. báo_động lũ ở cấp ii. a) bố_trí ngày 04 người, đêm 06 người. ban_ngày ít_nhất sau 02 giờ có 01 kíp đi tuần, mỗi kíp 02 người. ban_đêm ít_nhất sau 02 giờ có 01 kíp đi tuần, mỗi kíp 03 người. b) trường_hợp có tin bão khẩn_cấp đổ_bộ vào khu_vực bố_trí ngày 06 người, đêm 12 người, chia thành các kíp, mỗi kíp 03 người ; tùy theo diễn_biến của bão, lũ và đặc_điểm của tuyến đê, ban chỉ_huy phòng, chống lụt, bão cấp xã quyết_định việc tăng_cường số lần kiểm_tra so với quy_định tại điểm a khoản 2 điều này. 3. báo_động lũ ở cấp iii trở lên. a) bố_trí ngày 06 người, đêm 12 người, chia thành các kíp, mỗi kíp 03 người, không phân_biệt ngày_đêm các kíp phải liên_tục thay phiên nhau kiểm_tra. b) đối_với các vị_trí xung_yếu của đê, kè bảo_vệ đê, cống qua đê, bố_trí thêm lực_lượng để kiểm_tra, phát_hiện sự_cố và báo_cáo kịp_thời.',\n",
       " 'điều 9. nội_dung tuần_tra, canh_gác đê. 1. phạm_vi tuần_tra. a) báo_động lũ ở cấp i, bố_trí người tuần_tra như sau. lượt_đi 01 người (ban_ngày), 02 người (ban_đêm) kiểm_tra mặt đê, mái đê phía sông, khu_vực hành_lang bảo_vệ đê phía sông. lượt_về 01 người (ban_ngày), 02 người (ban_đêm) kiểm_tra mái đê phía đồng, khu_vực hành_lang bảo_vệ đê phía đồng, mặt ruộng, hồ ao gần chân đê phía đồng. b) báo_động lũ ở cấp ii, bố_trí người tuần_tra như sau. lượt_đi 01 người kiểm_tra mặt đê, mái đê phía sông, khu_vực hành_lang bảo_vệ đê phía sông ; 01 người (ban_ngày), 02 người (ban_đêm) kiểm_tra mái đê phía đồng, khu_vực hành_lang bảo_vệ đê phía đồng, mặt ruộng, hồ ao gần chân đê phía đồng. lượt_về 01 người (ban_ngày), 02 người (ban_đêm) kiểm_tra mặt đê, mái đê phía sông, khu_vực hành_lang bảo_vệ đê phía sông ; 01 người kiểm_tra mái đê phía đồng, khu_vực hành_lang bảo_vệ đê phía đồng, mặt ruộng, hồ ao gần chân đê phía đồng. c) báo_động lũ ở cấp ii và có tin bão khẩn_cấp đổ_bộ vào khu_vực hoặc báo_động lũ ở cấp iii trở lên, bố_trí người tuần_tra như sau. lượt_đi 02 người kiểm_tra mái đê, khu_vực hành_lang bảo_vệ đê phía đồng, mặt ruộng, hồ ao gần chân đê phía đồng ; 01 người kiểm_tra mặt đê. lượt_về 02 người kiểm_tra phía đồng ; 01 người kiểm_tra mặt đê, mái đê và khu_vực hành_lang bảo_vệ đê phía sông. d) mỗi kíp tuần_tra phải kiểm_tra vượt quá phạm_vi phụ_trách về hai phía, mỗi phía 50m. đối_với những khu_vực đã từng xảy ra sự_cố hư_hỏng, phải kiểm_tra quan_sát rộng hơn để phát_hiện sự_cố. 2. người tuần_tra, canh_gác phải phát_hiện kịp_thời những hư_hỏng của đê. 3. khi phát_hiện có hư_hỏng, người tuần_tra phải tiến_hành các công_việc sau. a) xác_định loại hư_hỏng, vị_trí, đặc_điểm, kích_thước của loại hư_hỏng. b) xác_định mực nước sông so với mặt đê tại vị_trí phát_sinh hư_hỏng. c) đánh_dấu bằng cách ghi bảng, cắm tiêu báo_hiệu vị_trí hư_hỏng ; nếu sự_cố nghiêm_trọng, phải cấm người, vật, xe cơ_giới đi qua và bố_trí người canh_gác tại_chỗ để theo_dõi thường_xuyên diễn_biến của hư_hỏng. d) báo_cáo kịp_thời và cụ_thể_tình_hình hư_hỏng cho đội_trưởng hoặc đội phó, cán_bộ chuyên_trách quản_lý đê điều và ban chỉ_huy phòng, chống lụt, bão xã.',\n",
       " 'điều 10. nội_dung tuần_tra canh_gác cống qua đê. 1. khi lũ ở báo_động i trở lên, đội tuần_tra, canh_gác đê phải phân_công người theo_dõi chặt_chẽ diễn_biến của các cống qua đê, ngăn_chặn kịp_thời những hành_vi sử_dụng cống trái_phép trong mùa lũ. 2. người tuần_tra, canh_gác phải kiểm_tra kỹ phần tiếp_giáp giữa thân cống, tường cánh_gà của cống với đê ; cánh cống, bộ_phận đóng mở cánh cống, cửa cống, thân cống và khu_vực thượng, hạ_lưu cống để phát_hiện kịp_thời những sự_cố xảy ra. 3. khi phát_hiện có hư_hỏng của cống, người tuần_tra, canh_gác phải tiến_hành các công_việc như đối_với quy_định tại khoản 3 điều 9 của thông_tư này.']"
      ]
     },
     "execution_count": 8,
     "metadata": {},
     "output_type": "execute_result"
    }
   ],
   "source": [
    "article_texts[5:10]"
   ]
  },
  {
   "cell_type": "code",
   "execution_count": 9,
   "metadata": {},
   "outputs": [
    {
     "data": {
      "text/plain": [
       "['điều 4.',\n",
       " 'hồ_sơ đề_nghị xác_định, xác_định lại mức_độ khuyết_tật ; cấp, cấp đổi, cấp lại giấy xác_nhận khuyết_tật.',\n",
       " '1.',\n",
       " 'đơn đề_nghị xác_định, xác_định lại mức_độ khuyết_tật và cấp, cấp đổi, cấp lại giấy xác_nhận khuyết_tật theo mẫu_số 01 ban_hành kèm theo thông_tư này.',\n",
       " '2.',\n",
       " 'bản_sao các giấy_tờ liên_quan đến khuyết_tật (nếu có) như bệnh_án, giấy_tờ khám, điều_trị, phẫu_thuật, giấy xác_nhận khuyết_tật cũ và các giấy_tờ có liên_quan khác.',\n",
       " '3.',\n",
       " 'bản_sao kết_luận của hội_đồng giám_định y_khoa về khả_năng tự phục_vụ, mức_độ suy_giảm khả_năng lao_động đối_với trường_hợp người khuyết_tật đã có kết_luận của hội_đồng giám_định y_khoa trước ngày nghị_định số 28 / 2012 / nđ cp có hiệu_lực hoặc các giấy_tờ liên_quan khác (nếu có).',\n",
       " '4.',\n",
       " 'trường_hợp quy_định tại khoản 1 điều 8 và điểm b, khoản 2 điều 8 thì không phải nộp các giấy_tờ quy_định tại khoản 2 và khoản 3 điều này.']"
      ]
     },
     "execution_count": 9,
     "metadata": {},
     "output_type": "execute_result"
    }
   ],
   "source": [
    "sentences = re.split(\n",
    "    r'(?<!\\w\\.\\w.)(?<![A-Z][a-z]\\.)(?<=\\.|\\?)\\s', article_texts[1238])\n",
    "\n",
    "sentences"
   ]
  },
  {
   "cell_type": "code",
   "execution_count": 10,
   "metadata": {},
   "outputs": [
    {
     "name": "stderr",
     "output_type": "stream",
     "text": [
      "  0%|          | 0/61425 [00:00<?, ?it/s]"
     ]
    },
    {
     "name": "stderr",
     "output_type": "stream",
     "text": [
      "100%|██████████| 61425/61425 [00:10<00:00, 5943.21it/s]\n"
     ]
    }
   ],
   "source": [
    "import random\n",
    "final = []\n",
    "for item in tqdm(article_texts):\n",
    "    sentences = re.split(\n",
    "        r'(?<!\\w\\.\\w.)(?<![A-Z][a-z]\\.)(?<=\\.|\\?)\\s', item)\n",
    "    if len(sentences) < 4:\n",
    "        continue\n",
    "    \n",
    "    for index, query in enumerate(sentences):\n",
    "        if len(query.split()) < 10:\n",
    "            continue\n",
    "        doc = sentences[:index] + sentences[index + 1:]\n",
    "        doc = [d.strip() for d in doc]\n",
    "        doc = \" \".join(doc)\n",
    "        final.append({\n",
    "            \"query\": query,\n",
    "            \"document\": doc\n",
    "        })\n",
    "    # random_idx = random.choice([i for i in range(len(sentences))])\n",
    "    # query = sentences[random_idx]\n",
    "    \n",
    "    # trial = 0\n",
    "    # while len(query.split()) < 10:\n",
    "    #     if trial == 5:\n",
    "    #         break\n",
    "    #     random_idx = random.choice([i for i in range(len(sentences))])\n",
    "    #     query = sentences[random_idx]\n",
    "    #     trial +=1\n",
    "    # if trial == 5:\n",
    "    #     continue\n",
    "    # doc = sentences[:random_idx] + sentences[random_idx + 1:]\n",
    "    # doc = [d.strip() for d in doc]\n",
    "    # doc = \" \".join(doc)\n",
    "\n",
    "    # final.append({\n",
    "    #     \"query\": query,\n",
    "    #     \"document\": doc\n",
    "    # })\n",
    "\n",
    "    "
   ]
  },
  {
   "cell_type": "code",
   "execution_count": 11,
   "metadata": {},
   "outputs": [
    {
     "data": {
      "text/plain": [
       "412073"
      ]
     },
     "execution_count": 11,
     "metadata": {},
     "output_type": "execute_result"
    }
   ],
   "source": [
    "len(final)"
   ]
  },
  {
   "cell_type": "code",
   "execution_count": 12,
   "metadata": {},
   "outputs": [],
   "source": [
    "import jsonlines\n",
    "with jsonlines.open('/home/link/spaces/chunking/LinhCSE_training/data/train/data.jsonl', mode='w') as writer:\n",
    "    for item in final:\n",
    "        writer.write(item)"
   ]
  },
  {
   "cell_type": "code",
   "execution_count": 13,
   "metadata": {},
   "outputs": [
    {
     "name": "stderr",
     "output_type": "stream",
     "text": [
      "Downloading data files: 100%|██████████| 1/1 [00:00<00:00, 9776.93it/s]\n",
      "Extracting data files: 100%|██████████| 1/1 [00:00<00:00, 348.13it/s]\n",
      "Generating train split: 412073 examples [00:11, 36142.00 examples/s]\n"
     ]
    }
   ],
   "source": [
    "from datasets import load_dataset\n",
    "data = load_dataset('json', data_files='/home/link/spaces/chunking/LinhCSE_training/data/train/data.jsonl')"
   ]
  },
  {
   "cell_type": "code",
   "execution_count": 14,
   "metadata": {},
   "outputs": [
    {
     "data": {
      "text/plain": [
       "{'query': 'hàng năm trước mùa mưa, lũ, ủy_ban nhân_dân cấp xã nơi có đê phải tổ_chức lực_lượng lao_động tại địa_phương để tuần_tra, canh_gác đê và thường_trực trên các điếm_canh đê hoặc nhà dân khu_vực gần đê (đối_với những khu_vực chưa có điếm_canh đê), khi có báo_động lũ từ cấp i trở lên đối_với tuyến sông có đê (sau đây gọi tắt là lực_lượng tuần_tra, canh_gác đê).',\n",
       " 'document': 'điều 2. tổ_chức lực_lượng. 1. 2. lực_lượng tuần_tra, canh_gác đê được tổ_chức thành các đội, do ủy_ban nhân_dân cấp xã ra quyết_định thành_lập ; từ 01 đến 02 kilômét đê thành_lập 01 đội ; mỗi đội có từ 12 đến 18 người, trong đó có 01 đội_trưởng và 01 hoặc 02 đội phó. danh_sách thành_viên đội tuần_tra, canh_gác đê được niêm_yết tại điếm_canh đê thuộc địa_bàn được phân_công. 3. khi lũ, bão có diễn_biến phức_tạp, kéo_dài ngày, uỷ_ban nhân_dân cấp xã có_thể quyết_định việc bổ_sung thêm thành_viên cho đội tuần_tra, canh_gác đê.'}"
      ]
     },
     "execution_count": 14,
     "metadata": {},
     "output_type": "execute_result"
    }
   ],
   "source": [
    "data['train'][0]"
   ]
  },
  {
   "cell_type": "code",
   "execution_count": null,
   "metadata": {},
   "outputs": [],
   "source": []
  }
 ],
 "metadata": {
  "kernelspec": {
   "display_name": "conlearn",
   "language": "python",
   "name": "python3"
  },
  "language_info": {
   "codemirror_mode": {
    "name": "ipython",
    "version": 3
   },
   "file_extension": ".py",
   "mimetype": "text/x-python",
   "name": "python",
   "nbconvert_exporter": "python",
   "pygments_lexer": "ipython3",
   "version": "3.9.18"
  }
 },
 "nbformat": 4,
 "nbformat_minor": 2
}
